{
 "cells": [
  {
   "cell_type": "markdown",
   "metadata": {},
   "source": [
    "First we have to import libraries such as the <em>pandas</em> and the Numpy libraries."
   ]
  },
  {
   "cell_type": "code",
   "execution_count": 93,
   "metadata": {},
   "outputs": [],
   "source": [
    "import pandas as pd\n",
    "import numpy as np"
   ]
  },
  {
   "attachments": {},
   "cell_type": "markdown",
   "metadata": {},
   "source": [
    "Dataset provided in the assignment are:\n",
    "\n",
    "The dataset is about the compressive strength of different samples of concrete based on the volumes of the different ingredients that were used to make them. Ingredients include:\n",
    "1. Cement\n",
    "2. Blast Furnace Slag\n",
    "3. Fly Ash\n",
    "4. Water\n",
    "5. Superplasticizer\n",
    "6. Coarse Aggregate\n",
    "7. Fine Aggregate"
   ]
  },
  {
   "attachments": {},
   "cell_type": "markdown",
   "metadata": {},
   "source": [
    "To read the dataset into a <em>pandas</em> dataframe:"
   ]
  },
  {
   "cell_type": "code",
   "execution_count": 94,
   "metadata": {},
   "outputs": [
    {
     "data": {
      "text/html": [
       "<div>\n",
       "<style scoped>\n",
       "    .dataframe tbody tr th:only-of-type {\n",
       "        vertical-align: middle;\n",
       "    }\n",
       "\n",
       "    .dataframe tbody tr th {\n",
       "        vertical-align: top;\n",
       "    }\n",
       "\n",
       "    .dataframe thead th {\n",
       "        text-align: right;\n",
       "    }\n",
       "</style>\n",
       "<table border=\"1\" class=\"dataframe\">\n",
       "  <thead>\n",
       "    <tr style=\"text-align: right;\">\n",
       "      <th></th>\n",
       "      <th>Cement</th>\n",
       "      <th>Blast Furnace Slag</th>\n",
       "      <th>Fly Ash</th>\n",
       "      <th>Water</th>\n",
       "      <th>Superplasticizer</th>\n",
       "      <th>Coarse Aggregate</th>\n",
       "      <th>Fine Aggregate</th>\n",
       "      <th>Age</th>\n",
       "      <th>Strength</th>\n",
       "    </tr>\n",
       "  </thead>\n",
       "  <tbody>\n",
       "    <tr>\n",
       "      <th>0</th>\n",
       "      <td>540.0</td>\n",
       "      <td>0.0</td>\n",
       "      <td>0.0</td>\n",
       "      <td>162.0</td>\n",
       "      <td>2.5</td>\n",
       "      <td>1040.0</td>\n",
       "      <td>676.0</td>\n",
       "      <td>28</td>\n",
       "      <td>79.99</td>\n",
       "    </tr>\n",
       "    <tr>\n",
       "      <th>1</th>\n",
       "      <td>540.0</td>\n",
       "      <td>0.0</td>\n",
       "      <td>0.0</td>\n",
       "      <td>162.0</td>\n",
       "      <td>2.5</td>\n",
       "      <td>1055.0</td>\n",
       "      <td>676.0</td>\n",
       "      <td>28</td>\n",
       "      <td>61.89</td>\n",
       "    </tr>\n",
       "    <tr>\n",
       "      <th>2</th>\n",
       "      <td>332.5</td>\n",
       "      <td>142.5</td>\n",
       "      <td>0.0</td>\n",
       "      <td>228.0</td>\n",
       "      <td>0.0</td>\n",
       "      <td>932.0</td>\n",
       "      <td>594.0</td>\n",
       "      <td>270</td>\n",
       "      <td>40.27</td>\n",
       "    </tr>\n",
       "    <tr>\n",
       "      <th>3</th>\n",
       "      <td>332.5</td>\n",
       "      <td>142.5</td>\n",
       "      <td>0.0</td>\n",
       "      <td>228.0</td>\n",
       "      <td>0.0</td>\n",
       "      <td>932.0</td>\n",
       "      <td>594.0</td>\n",
       "      <td>365</td>\n",
       "      <td>41.05</td>\n",
       "    </tr>\n",
       "    <tr>\n",
       "      <th>4</th>\n",
       "      <td>198.6</td>\n",
       "      <td>132.4</td>\n",
       "      <td>0.0</td>\n",
       "      <td>192.0</td>\n",
       "      <td>0.0</td>\n",
       "      <td>978.4</td>\n",
       "      <td>825.5</td>\n",
       "      <td>360</td>\n",
       "      <td>44.30</td>\n",
       "    </tr>\n",
       "  </tbody>\n",
       "</table>\n",
       "</div>"
      ],
      "text/plain": [
       "   Cement  Blast Furnace Slag  Fly Ash  Water  Superplasticizer  \\\n",
       "0   540.0                 0.0      0.0  162.0               2.5   \n",
       "1   540.0                 0.0      0.0  162.0               2.5   \n",
       "2   332.5               142.5      0.0  228.0               0.0   \n",
       "3   332.5               142.5      0.0  228.0               0.0   \n",
       "4   198.6               132.4      0.0  192.0               0.0   \n",
       "\n",
       "   Coarse Aggregate  Fine Aggregate  Age  Strength  \n",
       "0            1040.0           676.0   28     79.99  \n",
       "1            1055.0           676.0   28     61.89  \n",
       "2             932.0           594.0  270     40.27  \n",
       "3             932.0           594.0  365     41.05  \n",
       "4             978.4           825.5  360     44.30  "
      ]
     },
     "execution_count": 94,
     "metadata": {},
     "output_type": "execute_result"
    }
   ],
   "source": [
    "concrete_data = pd.read_csv('concrete_data.csv')\n",
    "concrete_data.head()"
   ]
  },
  {
   "attachments": {},
   "cell_type": "markdown",
   "metadata": {},
   "source": [
    "So, the data suggests that the first sample has 540 cubic metres of cement, 0 cubic metres of blast furnace slag, 0 cubic metre of fly ash, 162 cubic meter of water, 2.5 cubic metres of superplaticizer, 1040 cubic metres of coarse aggregate and, 676 cubic metres of fine aggregate. \n",
    "This concrete mix which is 28 days old, has a compressive strength of 79.99 MPa. "
   ]
  },
  {
   "attachments": {},
   "cell_type": "markdown",
   "metadata": {},
   "source": [
    "<h4>So to check the number of data points:</h4>"
   ]
  },
  {
   "cell_type": "code",
   "execution_count": 95,
   "metadata": {},
   "outputs": [
    {
     "data": {
      "text/plain": [
       "(1030, 9)"
      ]
     },
     "execution_count": 95,
     "metadata": {},
     "output_type": "execute_result"
    }
   ],
   "source": [
    "concrete_data.shape"
   ]
  },
  {
   "attachments": {},
   "cell_type": "markdown",
   "metadata": {},
   "source": [
    "So, there are total of 1030 samples to train our model on. So, we should be very careful not to overfit the training data."
   ]
  },
  {
   "attachments": {},
   "cell_type": "markdown",
   "metadata": {},
   "source": [
    "We can use <i><u>concrete_data.describe()</u></i> to check the dataset for any missing values."
   ]
  },
  {
   "cell_type": "code",
   "execution_count": 96,
   "metadata": {},
   "outputs": [
    {
     "data": {
      "text/plain": [
       "Cement                0\n",
       "Blast Furnace Slag    0\n",
       "Fly Ash               0\n",
       "Water                 0\n",
       "Superplasticizer      0\n",
       "Coarse Aggregate      0\n",
       "Fine Aggregate        0\n",
       "Age                   0\n",
       "Strength              0\n",
       "dtype: int64"
      ]
     },
     "execution_count": 96,
     "metadata": {},
     "output_type": "execute_result"
    }
   ],
   "source": [
    "concrete_data.describe()\n",
    "concrete_data.isnull().sum()"
   ]
  },
  {
   "attachments": {},
   "cell_type": "markdown",
   "metadata": {},
   "source": [
    "So we can colclude that this dataset is very clean and thus it can be used safely to build our model."
   ]
  },
  {
   "attachments": {},
   "cell_type": "markdown",
   "metadata": {},
   "source": [
    "<h4>Split data into predictors and target</h4>"
   ]
  },
  {
   "cell_type": "markdown",
   "metadata": {},
   "source": [
    "The target variable in this problem is the concrete sample strength. Therefore, our predictors will be all the other columns."
   ]
  },
  {
   "cell_type": "code",
   "execution_count": 97,
   "metadata": {},
   "outputs": [],
   "source": [
    "concrete_data_columns = concrete_data.columns\n",
    "predictors = concrete_data[concrete_data_columns[concrete_data_columns != 'Strength']] # to get all columns except Strength\n",
    "target = concrete_data['Strength'] # to get Strength column"
   ]
  },
  {
   "attachments": {},
   "cell_type": "markdown",
   "metadata": {},
   "source": [
    "To make a sanity check  forthe data again for sake of the predictors and the target dataframes."
   ]
  },
  {
   "cell_type": "code",
   "execution_count": 98,
   "metadata": {},
   "outputs": [
    {
     "data": {
      "text/html": [
       "<div>\n",
       "<style scoped>\n",
       "    .dataframe tbody tr th:only-of-type {\n",
       "        vertical-align: middle;\n",
       "    }\n",
       "\n",
       "    .dataframe tbody tr th {\n",
       "        vertical-align: top;\n",
       "    }\n",
       "\n",
       "    .dataframe thead th {\n",
       "        text-align: right;\n",
       "    }\n",
       "</style>\n",
       "<table border=\"1\" class=\"dataframe\">\n",
       "  <thead>\n",
       "    <tr style=\"text-align: right;\">\n",
       "      <th></th>\n",
       "      <th>Cement</th>\n",
       "      <th>Blast Furnace Slag</th>\n",
       "      <th>Fly Ash</th>\n",
       "      <th>Water</th>\n",
       "      <th>Superplasticizer</th>\n",
       "      <th>Coarse Aggregate</th>\n",
       "      <th>Fine Aggregate</th>\n",
       "      <th>Age</th>\n",
       "    </tr>\n",
       "  </thead>\n",
       "  <tbody>\n",
       "    <tr>\n",
       "      <th>0</th>\n",
       "      <td>540.0</td>\n",
       "      <td>0.0</td>\n",
       "      <td>0.0</td>\n",
       "      <td>162.0</td>\n",
       "      <td>2.5</td>\n",
       "      <td>1040.0</td>\n",
       "      <td>676.0</td>\n",
       "      <td>28</td>\n",
       "    </tr>\n",
       "    <tr>\n",
       "      <th>1</th>\n",
       "      <td>540.0</td>\n",
       "      <td>0.0</td>\n",
       "      <td>0.0</td>\n",
       "      <td>162.0</td>\n",
       "      <td>2.5</td>\n",
       "      <td>1055.0</td>\n",
       "      <td>676.0</td>\n",
       "      <td>28</td>\n",
       "    </tr>\n",
       "    <tr>\n",
       "      <th>2</th>\n",
       "      <td>332.5</td>\n",
       "      <td>142.5</td>\n",
       "      <td>0.0</td>\n",
       "      <td>228.0</td>\n",
       "      <td>0.0</td>\n",
       "      <td>932.0</td>\n",
       "      <td>594.0</td>\n",
       "      <td>270</td>\n",
       "    </tr>\n",
       "    <tr>\n",
       "      <th>3</th>\n",
       "      <td>332.5</td>\n",
       "      <td>142.5</td>\n",
       "      <td>0.0</td>\n",
       "      <td>228.0</td>\n",
       "      <td>0.0</td>\n",
       "      <td>932.0</td>\n",
       "      <td>594.0</td>\n",
       "      <td>365</td>\n",
       "    </tr>\n",
       "    <tr>\n",
       "      <th>4</th>\n",
       "      <td>198.6</td>\n",
       "      <td>132.4</td>\n",
       "      <td>0.0</td>\n",
       "      <td>192.0</td>\n",
       "      <td>0.0</td>\n",
       "      <td>978.4</td>\n",
       "      <td>825.5</td>\n",
       "      <td>360</td>\n",
       "    </tr>\n",
       "  </tbody>\n",
       "</table>\n",
       "</div>"
      ],
      "text/plain": [
       "   Cement  Blast Furnace Slag  Fly Ash  Water  Superplasticizer  \\\n",
       "0   540.0                 0.0      0.0  162.0               2.5   \n",
       "1   540.0                 0.0      0.0  162.0               2.5   \n",
       "2   332.5               142.5      0.0  228.0               0.0   \n",
       "3   332.5               142.5      0.0  228.0               0.0   \n",
       "4   198.6               132.4      0.0  192.0               0.0   \n",
       "\n",
       "   Coarse Aggregate  Fine Aggregate  Age  \n",
       "0            1040.0           676.0   28  \n",
       "1            1055.0           676.0   28  \n",
       "2             932.0           594.0  270  \n",
       "3             932.0           594.0  365  \n",
       "4             978.4           825.5  360  "
      ]
     },
     "execution_count": 98,
     "metadata": {},
     "output_type": "execute_result"
    }
   ],
   "source": [
    "predictors.head()"
   ]
  },
  {
   "cell_type": "code",
   "execution_count": 99,
   "metadata": {},
   "outputs": [
    {
     "data": {
      "text/plain": [
       "0    79.99\n",
       "1    61.89\n",
       "2    40.27\n",
       "3    41.05\n",
       "4    44.30\n",
       "Name: Strength, dtype: float64"
      ]
     },
     "execution_count": 99,
     "metadata": {},
     "output_type": "execute_result"
    }
   ],
   "source": [
    "target.head()"
   ]
  },
  {
   "attachments": {},
   "cell_type": "markdown",
   "metadata": {},
   "source": [
    "So, it looks clean again."
   ]
  },
  {
   "cell_type": "markdown",
   "metadata": {},
   "source": [
    "Finally, the last step is to normalize the data by substracting the mean and dividing by the standard deviation."
   ]
  },
  {
   "cell_type": "code",
   "execution_count": 100,
   "metadata": {},
   "outputs": [
    {
     "data": {
      "text/html": [
       "<div>\n",
       "<style scoped>\n",
       "    .dataframe tbody tr th:only-of-type {\n",
       "        vertical-align: middle;\n",
       "    }\n",
       "\n",
       "    .dataframe tbody tr th {\n",
       "        vertical-align: top;\n",
       "    }\n",
       "\n",
       "    .dataframe thead th {\n",
       "        text-align: right;\n",
       "    }\n",
       "</style>\n",
       "<table border=\"1\" class=\"dataframe\">\n",
       "  <thead>\n",
       "    <tr style=\"text-align: right;\">\n",
       "      <th></th>\n",
       "      <th>Cement</th>\n",
       "      <th>Blast Furnace Slag</th>\n",
       "      <th>Fly Ash</th>\n",
       "      <th>Water</th>\n",
       "      <th>Superplasticizer</th>\n",
       "      <th>Coarse Aggregate</th>\n",
       "      <th>Fine Aggregate</th>\n",
       "      <th>Age</th>\n",
       "    </tr>\n",
       "  </thead>\n",
       "  <tbody>\n",
       "    <tr>\n",
       "      <th>0</th>\n",
       "      <td>2.476712</td>\n",
       "      <td>-0.856472</td>\n",
       "      <td>-0.846733</td>\n",
       "      <td>-0.916319</td>\n",
       "      <td>-0.620147</td>\n",
       "      <td>0.862735</td>\n",
       "      <td>-1.217079</td>\n",
       "      <td>-0.279597</td>\n",
       "    </tr>\n",
       "    <tr>\n",
       "      <th>1</th>\n",
       "      <td>2.476712</td>\n",
       "      <td>-0.856472</td>\n",
       "      <td>-0.846733</td>\n",
       "      <td>-0.916319</td>\n",
       "      <td>-0.620147</td>\n",
       "      <td>1.055651</td>\n",
       "      <td>-1.217079</td>\n",
       "      <td>-0.279597</td>\n",
       "    </tr>\n",
       "    <tr>\n",
       "      <th>2</th>\n",
       "      <td>0.491187</td>\n",
       "      <td>0.795140</td>\n",
       "      <td>-0.846733</td>\n",
       "      <td>2.174405</td>\n",
       "      <td>-1.038638</td>\n",
       "      <td>-0.526262</td>\n",
       "      <td>-2.239829</td>\n",
       "      <td>3.551340</td>\n",
       "    </tr>\n",
       "    <tr>\n",
       "      <th>3</th>\n",
       "      <td>0.491187</td>\n",
       "      <td>0.795140</td>\n",
       "      <td>-0.846733</td>\n",
       "      <td>2.174405</td>\n",
       "      <td>-1.038638</td>\n",
       "      <td>-0.526262</td>\n",
       "      <td>-2.239829</td>\n",
       "      <td>5.055221</td>\n",
       "    </tr>\n",
       "    <tr>\n",
       "      <th>4</th>\n",
       "      <td>-0.790075</td>\n",
       "      <td>0.678079</td>\n",
       "      <td>-0.846733</td>\n",
       "      <td>0.488555</td>\n",
       "      <td>-1.038638</td>\n",
       "      <td>0.070492</td>\n",
       "      <td>0.647569</td>\n",
       "      <td>4.976069</td>\n",
       "    </tr>\n",
       "  </tbody>\n",
       "</table>\n",
       "</div>"
      ],
      "text/plain": [
       "     Cement  Blast Furnace Slag   Fly Ash     Water  Superplasticizer  \\\n",
       "0  2.476712           -0.856472 -0.846733 -0.916319         -0.620147   \n",
       "1  2.476712           -0.856472 -0.846733 -0.916319         -0.620147   \n",
       "2  0.491187            0.795140 -0.846733  2.174405         -1.038638   \n",
       "3  0.491187            0.795140 -0.846733  2.174405         -1.038638   \n",
       "4 -0.790075            0.678079 -0.846733  0.488555         -1.038638   \n",
       "\n",
       "   Coarse Aggregate  Fine Aggregate       Age  \n",
       "0          0.862735       -1.217079 -0.279597  \n",
       "1          1.055651       -1.217079 -0.279597  \n",
       "2         -0.526262       -2.239829  3.551340  \n",
       "3         -0.526262       -2.239829  5.055221  \n",
       "4          0.070492        0.647569  4.976069  "
      ]
     },
     "execution_count": 100,
     "metadata": {},
     "output_type": "execute_result"
    }
   ],
   "source": [
    "predictors_norm = (predictors - predictors.mean()) / predictors.std()\n",
    "predictors_norm.head()"
   ]
  },
  {
   "cell_type": "code",
   "execution_count": 101,
   "metadata": {},
   "outputs": [
    {
     "data": {
      "text/plain": [
       "8"
      ]
     },
     "execution_count": 101,
     "metadata": {},
     "output_type": "execute_result"
    }
   ],
   "source": [
    "number_cols = predictors_norm.shape[1] # number of predictors\n",
    "number_cols"
   ]
  },
  {
   "cell_type": "markdown",
   "metadata": {},
   "source": [
    "<a id=\"item1\"></a>"
   ]
  },
  {
   "cell_type": "markdown",
   "metadata": {},
   "source": [
    "<a id=\"item1\"></a>"
   ]
  },
  {
   "attachments": {},
   "cell_type": "markdown",
   "metadata": {},
   "source": [
    "## Importing Keras"
   ]
  },
  {
   "attachments": {},
   "cell_type": "markdown",
   "metadata": {},
   "source": [
    "#### Now we have to import the Keras library for the actual work"
   ]
  },
  {
   "cell_type": "code",
   "execution_count": 102,
   "metadata": {},
   "outputs": [],
   "source": [
    "import keras"
   ]
  },
  {
   "attachments": {},
   "cell_type": "markdown",
   "metadata": {},
   "source": [
    "To use Keras, we first have to install the TensorFlow backend, which would be used to install the Keras library."
   ]
  },
  {
   "attachments": {},
   "cell_type": "markdown",
   "metadata": {},
   "source": [
    "Now, to import the rest of the packages from the Keras library that we will need to build our regressoin model."
   ]
  },
  {
   "cell_type": "code",
   "execution_count": 103,
   "metadata": {},
   "outputs": [],
   "source": [
    "from keras.models import Sequential\n",
    "from keras.layers import Dense"
   ]
  },
  {
   "cell_type": "code",
   "execution_count": 104,
   "metadata": {},
   "outputs": [],
   "source": [
    "def regression_model():\n",
    "    # creating the model\n",
    "    model = Sequential()\n",
    "    model.add(Dense(10, activation='relu', input_shape=(number_cols,)))\n",
    "    model.add(Dense(1))\n",
    "    \n",
    "    # compiling the model\n",
    "    model.compile(optimizer='adam', loss='mean_squared_error')\n",
    "    return model"
   ]
  },
  {
   "attachments": {},
   "cell_type": "markdown",
   "metadata": {},
   "source": [
    "The regression_model function creates a model that has one hidden layer with 10 neurons and a ReLU activation function. It uses the adam optimizer and the mean squared error as the loss function."
   ]
  },
  {
   "cell_type": "markdown",
   "metadata": {},
   "source": [
    "Let's import scikit-learn in order to randomly split the data into a training and test sets"
   ]
  },
  {
   "cell_type": "code",
   "execution_count": 105,
   "metadata": {},
   "outputs": [],
   "source": [
    "from sklearn.model_selection import train_test_split"
   ]
  },
  {
   "attachments": {},
   "cell_type": "markdown",
   "metadata": {},
   "source": [
    "Now, let's split the data into a training and test sets by holding 30% of the data for testing"
   ]
  },
  {
   "cell_type": "code",
   "execution_count": 106,
   "metadata": {},
   "outputs": [],
   "source": [
    "X_train, X_test, y_train, y_test = train_test_split(predictors_norm, target, test_size=0.3, random_state=42)\n"
   ]
  },
  {
   "attachments": {},
   "cell_type": "markdown",
   "metadata": {},
   "source": [
    "### Training and Testing the Network"
   ]
  },
  {
   "attachments": {},
   "cell_type": "markdown",
   "metadata": {},
   "source": [
    "Call the function now to create our model."
   ]
  },
  {
   "cell_type": "code",
   "execution_count": 107,
   "metadata": {},
   "outputs": [],
   "source": [
    "# building the model\n",
    "model = regression_model()"
   ]
  },
  {
   "cell_type": "markdown",
   "metadata": {},
   "source": [
    "Next, we will train the model for 50 epochs.\n"
   ]
  },
  {
   "cell_type": "code",
   "execution_count": 108,
   "metadata": {},
   "outputs": [
    {
     "name": "stdout",
     "output_type": "stream",
     "text": [
      "Epoch 1/50\n",
      "23/23 - 0s - loss: 1647.4240 - 411ms/epoch - 18ms/step\n",
      "Epoch 2/50\n",
      "23/23 - 0s - loss: 1631.1204 - 17ms/epoch - 735us/step\n",
      "Epoch 3/50\n",
      "23/23 - 0s - loss: 1614.9130 - 19ms/epoch - 839us/step\n",
      "Epoch 4/50\n",
      "23/23 - 0s - loss: 1598.8284 - 20ms/epoch - 863us/step\n",
      "Epoch 5/50\n",
      "23/23 - 0s - loss: 1582.4622 - 19ms/epoch - 808us/step\n",
      "Epoch 6/50\n",
      "23/23 - 0s - loss: 1565.9171 - 17ms/epoch - 718us/step\n",
      "Epoch 7/50\n",
      "23/23 - 0s - loss: 1549.0387 - 16ms/epoch - 686us/step\n",
      "Epoch 8/50\n",
      "23/23 - 0s - loss: 1531.5630 - 15ms/epoch - 648us/step\n",
      "Epoch 9/50\n",
      "23/23 - 0s - loss: 1513.8169 - 16ms/epoch - 687us/step\n",
      "Epoch 10/50\n",
      "23/23 - 0s - loss: 1495.4717 - 15ms/epoch - 647us/step\n",
      "Epoch 11/50\n",
      "23/23 - 0s - loss: 1476.5074 - 16ms/epoch - 691us/step\n",
      "Epoch 12/50\n",
      "23/23 - 0s - loss: 1457.0370 - 16ms/epoch - 689us/step\n",
      "Epoch 13/50\n",
      "23/23 - 0s - loss: 1436.8528 - 15ms/epoch - 647us/step\n",
      "Epoch 14/50\n",
      "23/23 - 0s - loss: 1416.6610 - 16ms/epoch - 693us/step\n",
      "Epoch 15/50\n",
      "23/23 - 0s - loss: 1395.3995 - 16ms/epoch - 685us/step\n",
      "Epoch 16/50\n",
      "23/23 - 0s - loss: 1373.8954 - 16ms/epoch - 700us/step\n",
      "Epoch 17/50\n",
      "23/23 - 0s - loss: 1351.9299 - 15ms/epoch - 636us/step\n",
      "Epoch 18/50\n",
      "23/23 - 0s - loss: 1329.5073 - 15ms/epoch - 647us/step\n",
      "Epoch 19/50\n",
      "23/23 - 0s - loss: 1306.0671 - 15ms/epoch - 670us/step\n",
      "Epoch 20/50\n",
      "23/23 - 0s - loss: 1282.4424 - 16ms/epoch - 708us/step\n",
      "Epoch 21/50\n",
      "23/23 - 0s - loss: 1258.0696 - 16ms/epoch - 706us/step\n",
      "Epoch 22/50\n",
      "23/23 - 0s - loss: 1233.2356 - 16ms/epoch - 695us/step\n",
      "Epoch 23/50\n",
      "23/23 - 0s - loss: 1207.0173 - 16ms/epoch - 684us/step\n",
      "Epoch 24/50\n",
      "23/23 - 0s - loss: 1179.8633 - 15ms/epoch - 673us/step\n",
      "Epoch 25/50\n",
      "23/23 - 0s - loss: 1151.9479 - 16ms/epoch - 713us/step\n",
      "Epoch 26/50\n",
      "23/23 - 0s - loss: 1123.2211 - 15ms/epoch - 642us/step\n",
      "Epoch 27/50\n",
      "23/23 - 0s - loss: 1093.3066 - 18ms/epoch - 771us/step\n",
      "Epoch 28/50\n",
      "23/23 - 0s - loss: 1062.3452 - 16ms/epoch - 698us/step\n",
      "Epoch 29/50\n",
      "23/23 - 0s - loss: 1030.2544 - 15ms/epoch - 651us/step\n",
      "Epoch 30/50\n",
      "23/23 - 0s - loss: 997.4152 - 16ms/epoch - 687us/step\n",
      "Epoch 31/50\n",
      "23/23 - 0s - loss: 964.6251 - 16ms/epoch - 691us/step\n",
      "Epoch 32/50\n",
      "23/23 - 0s - loss: 931.1991 - 16ms/epoch - 684us/step\n",
      "Epoch 33/50\n",
      "23/23 - 0s - loss: 898.1599 - 16ms/epoch - 693us/step\n",
      "Epoch 34/50\n",
      "23/23 - 0s - loss: 864.4850 - 20ms/epoch - 879us/step\n",
      "Epoch 35/50\n",
      "23/23 - 0s - loss: 832.3995 - 18ms/epoch - 782us/step\n",
      "Epoch 36/50\n",
      "23/23 - 0s - loss: 799.8759 - 17ms/epoch - 761us/step\n",
      "Epoch 37/50\n",
      "23/23 - 0s - loss: 768.5060 - 19ms/epoch - 840us/step\n",
      "Epoch 38/50\n",
      "23/23 - 0s - loss: 738.1541 - 15ms/epoch - 662us/step\n",
      "Epoch 39/50\n",
      "23/23 - 0s - loss: 707.9973 - 16ms/epoch - 687us/step\n",
      "Epoch 40/50\n",
      "23/23 - 0s - loss: 678.9164 - 15ms/epoch - 647us/step\n",
      "Epoch 41/50\n",
      "23/23 - 0s - loss: 651.0609 - 16ms/epoch - 714us/step\n",
      "Epoch 42/50\n",
      "23/23 - 0s - loss: 624.1483 - 15ms/epoch - 665us/step\n",
      "Epoch 43/50\n",
      "23/23 - 0s - loss: 598.4743 - 16ms/epoch - 691us/step\n",
      "Epoch 44/50\n",
      "23/23 - 0s - loss: 573.7481 - 16ms/epoch - 681us/step\n",
      "Epoch 45/50\n",
      "23/23 - 0s - loss: 550.5593 - 16ms/epoch - 697us/step\n",
      "Epoch 46/50\n",
      "23/23 - 0s - loss: 527.6710 - 16ms/epoch - 687us/step\n",
      "Epoch 47/50\n",
      "23/23 - 0s - loss: 506.2807 - 15ms/epoch - 646us/step\n",
      "Epoch 48/50\n",
      "23/23 - 0s - loss: 486.0397 - 16ms/epoch - 689us/step\n",
      "Epoch 49/50\n",
      "23/23 - 0s - loss: 466.9267 - 15ms/epoch - 644us/step\n",
      "Epoch 50/50\n",
      "23/23 - 0s - loss: 448.6607 - 16ms/epoch - 690us/step\n"
     ]
    },
    {
     "data": {
      "text/plain": [
       "<keras.callbacks.History at 0x2220e9b67a0>"
      ]
     },
     "execution_count": 108,
     "metadata": {},
     "output_type": "execute_result"
    }
   ],
   "source": [
    "# fiting the model\n",
    "epochs = 50\n",
    "model.fit(X_train, y_train, epochs=epochs, verbose=2)"
   ]
  },
  {
   "cell_type": "markdown",
   "metadata": {},
   "source": [
    "Next we need to evaluate the model on the test data."
   ]
  },
  {
   "cell_type": "code",
   "execution_count": 109,
   "metadata": {},
   "outputs": [
    {
     "name": "stdout",
     "output_type": "stream",
     "text": [
      "10/10 [==============================] - 0s 891us/step - loss: 434.2885\n",
      "10/10 [==============================] - 0s 695us/step\n"
     ]
    },
    {
     "data": {
      "text/plain": [
       "434.2885437011719"
      ]
     },
     "execution_count": 109,
     "metadata": {},
     "output_type": "execute_result"
    }
   ],
   "source": [
    "loss_val = model.evaluate(X_test, y_test)\n",
    "y_pred = model.predict(X_test)\n",
    "loss_val"
   ]
  },
  {
   "cell_type": "markdown",
   "metadata": {},
   "source": [
    "Now we need to compute the mean squared error between the predicted concrete strength and the actual concrete strength."
   ]
  },
  {
   "cell_type": "markdown",
   "metadata": {},
   "source": [
    "Let's import the mean_squared_error function from Scikit-learn."
   ]
  },
  {
   "cell_type": "code",
   "execution_count": 110,
   "metadata": {},
   "outputs": [],
   "source": [
    "from sklearn.metrics import mean_squared_error"
   ]
  },
  {
   "cell_type": "code",
   "execution_count": 111,
   "metadata": {},
   "outputs": [
    {
     "name": "stdout",
     "output_type": "stream",
     "text": [
      "434.28850920961764 0.0\n"
     ]
    }
   ],
   "source": [
    "mean_square_error = mean_squared_error(y_test, y_pred)\n",
    "mean = np.mean(mean_square_error)\n",
    "standard_deviation = np.std(mean_square_error)\n",
    "print(mean, standard_deviation)"
   ]
  },
  {
   "cell_type": "markdown",
   "metadata": {},
   "source": [
    "Create a list of 50 mean squared errors and report mean and the standard deviation of the mean squared errors."
   ]
  },
  {
   "cell_type": "code",
   "execution_count": 112,
   "metadata": {},
   "outputs": [
    {
     "name": "stdout",
     "output_type": "stream",
     "text": [
      "MSE 1: 163.21607971191406\n",
      "10/10 [==============================] - 0s 979us/step\n",
      "MSE 2: 143.275390625\n",
      "10/10 [==============================] - 0s 785us/step\n",
      "MSE 3: 90.59881591796875\n",
      "10/10 [==============================] - 0s 792us/step\n",
      "MSE 4: 74.83082580566406\n",
      "10/10 [==============================] - 0s 895us/step\n",
      "MSE 5: 62.70222091674805\n",
      "10/10 [==============================] - 0s 0s/step\n",
      "MSE 6: 59.63166046142578\n",
      "10/10 [==============================] - 0s 2ms/step\n",
      "MSE 7: 56.3249397277832\n",
      "10/10 [==============================] - 0s 473us/step\n",
      "MSE 8: 41.39540100097656\n",
      "10/10 [==============================] - 0s 903us/step\n",
      "MSE 9: 43.55702209472656\n",
      "10/10 [==============================] - 0s 776us/step\n",
      "MSE 10: 42.71082305908203\n",
      "10/10 [==============================] - 0s 2ms/step\n",
      "MSE 11: 39.11769485473633\n",
      "10/10 [==============================] - 0s 885us/step\n",
      "MSE 12: 38.86497497558594\n",
      "10/10 [==============================] - 0s 2ms/step\n",
      "MSE 13: 43.7105827331543\n",
      "10/10 [==============================] - 0s 776us/step\n",
      "MSE 14: 46.21562576293945\n",
      "10/10 [==============================] - 0s 3ms/step\n",
      "MSE 15: 38.91065216064453\n",
      "10/10 [==============================] - 0s 776us/step\n",
      "MSE 16: 37.195045471191406\n",
      "10/10 [==============================] - 0s 777us/step\n",
      "MSE 17: 39.18388748168945\n",
      "10/10 [==============================] - 0s 997us/step\n",
      "MSE 18: 37.542442321777344\n",
      "10/10 [==============================] - 0s 997us/step\n",
      "MSE 19: 38.45000076293945\n",
      "10/10 [==============================] - 0s 998us/step\n",
      "MSE 20: 39.473262786865234\n",
      "10/10 [==============================] - 0s 2ms/step\n",
      "MSE 21: 34.61402893066406\n",
      "10/10 [==============================] - 0s 2ms/step\n",
      "MSE 22: 35.5551643371582\n",
      "10/10 [==============================] - 0s 776us/step\n",
      "MSE 23: 31.799823760986328\n",
      "10/10 [==============================] - 0s 722us/step\n",
      "MSE 24: 34.8597412109375\n",
      "10/10 [==============================] - 0s 776us/step\n",
      "MSE 25: 35.76171112060547\n",
      "10/10 [==============================] - 0s 776us/step\n",
      "MSE 26: 36.98134231567383\n",
      "10/10 [==============================] - 0s 721us/step\n",
      "MSE 27: 32.838134765625\n",
      "10/10 [==============================] - 0s 776us/step\n",
      "MSE 28: 34.44533920288086\n",
      "10/10 [==============================] - 0s 1ms/step\n",
      "MSE 29: 37.711090087890625\n",
      "10/10 [==============================] - 0s 776us/step\n",
      "MSE 30: 35.57033920288086\n",
      "10/10 [==============================] - 0s 665us/step\n",
      "MSE 31: 33.6108283996582\n",
      "10/10 [==============================] - 0s 886us/step\n",
      "MSE 32: 32.35979461669922\n",
      "10/10 [==============================] - 0s 776us/step\n",
      "MSE 33: 32.55426788330078\n",
      "10/10 [==============================] - 0s 776us/step\n",
      "MSE 34: 34.62776184082031\n",
      "10/10 [==============================] - 0s 776us/step\n",
      "MSE 35: 36.553768157958984\n",
      "10/10 [==============================] - 0s 776us/step\n",
      "MSE 36: 39.23624801635742\n",
      "10/10 [==============================] - 0s 776us/step\n",
      "MSE 37: 30.38584327697754\n",
      "10/10 [==============================] - 0s 665us/step\n",
      "MSE 38: 38.09668731689453\n",
      "10/10 [==============================] - 0s 776us/step\n",
      "MSE 39: 34.41170120239258\n",
      "10/10 [==============================] - 0s 2ms/step\n",
      "MSE 40: 30.829452514648438\n",
      "10/10 [==============================] - 0s 665us/step\n",
      "MSE 41: 36.47151184082031\n",
      "10/10 [==============================] - 0s 665us/step\n",
      "MSE 42: 28.653522491455078\n",
      "10/10 [==============================] - 0s 721us/step\n",
      "MSE 43: 35.663970947265625\n",
      "10/10 [==============================] - 0s 722us/step\n",
      "MSE 44: 39.609317779541016\n",
      "10/10 [==============================] - 0s 2ms/step\n",
      "MSE 45: 38.770992279052734\n",
      "10/10 [==============================] - 0s 776us/step\n",
      "MSE 46: 36.99104309082031\n",
      "10/10 [==============================] - 0s 1ms/step\n",
      "MSE 47: 32.7310905456543\n",
      "10/10 [==============================] - 0s 2ms/step\n",
      "MSE 48: 38.13825988769531\n",
      "10/10 [==============================] - 0s 776us/step\n",
      "MSE 49: 35.09604263305664\n",
      "10/10 [==============================] - 0s 664us/step\n",
      "MSE 50: 34.6651725769043\n",
      "10/10 [==============================] - 0s 886us/step\n",
      "\n",
      "\n",
      "Below is the mean and standard deviation of 50 mean squared errors with normalized data. Total number of epochs for each training is: 50\n",
      "\n",
      "Mean: 44.530026985199676\n",
      "Standard Deviation: 24.82776967014751\n"
     ]
    }
   ],
   "source": [
    "total_mean_squared_errors = 50\n",
    "epochs = 50\n",
    "mean_squared_errors = []\n",
    "for i in range(0, total_mean_squared_errors):\n",
    "    X_train, X_test, y_train, y_test = train_test_split(\n",
    "        predictors_norm, target, test_size=0.3, random_state=i)\n",
    "    model.fit(X_train, y_train, epochs=epochs, verbose=0)\n",
    "    MSE = model.evaluate(X_test, y_test, verbose=0)\n",
    "    print(\"MSE \"+str(i+1)+\": \"+str(MSE))\n",
    "    y_pred = model.predict(X_test)\n",
    "    mean_square_error = mean_squared_error(y_test, y_pred)\n",
    "    mean_squared_errors.append(mean_square_error)\n",
    "\n",
    "mean_squared_errors = np.array(mean_squared_errors)\n",
    "mean = np.mean(mean_squared_errors)\n",
    "standard_deviation = np.std(mean_squared_errors)\n",
    "\n",
    "print('\\n')\n",
    "print(\"Below is the mean and standard deviation of \" + str(total_mean_squared_errors) +\n",
    "      \" mean squared errors with normalized data. Total number of epochs for each training is: \" + str(epochs) + \"\\n\")\n",
    "print(\"Mean: \"+str(mean))\n",
    "print(\"Standard Deviation: \"+str(standard_deviation))\n"
   ]
  }
 ],
 "metadata": {
  "kernelspec": {
   "display_name": "Python 3",
   "language": "python",
   "name": "python3"
  },
  "language_info": {
   "codemirror_mode": {
    "name": "ipython",
    "version": 3
   },
   "file_extension": ".py",
   "mimetype": "text/x-python",
   "name": "python",
   "nbconvert_exporter": "python",
   "pygments_lexer": "ipython3",
   "version": "3.10.8"
  },
  "vscode": {
   "interpreter": {
    "hash": "888d31709ca79bf2a80bc0cbceb317f731f8ef13079c8a5ef9dcc0d9b6d5aff0"
   }
  }
 },
 "nbformat": 4,
 "nbformat_minor": 2
}
