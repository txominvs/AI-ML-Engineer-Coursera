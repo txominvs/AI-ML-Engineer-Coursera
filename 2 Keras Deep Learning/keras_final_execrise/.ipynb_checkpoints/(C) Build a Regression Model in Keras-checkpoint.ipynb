{
 "cells": [
  {
   "cell_type": "markdown",
   "metadata": {},
   "source": [
    "First we have to import libraries such as the <em>pandas</em> and the Numpy libraries."
   ]
  },
  {
   "cell_type": "code",
   "execution_count": 1,
   "metadata": {},
   "outputs": [],
   "source": [
    "import pandas as pd\n",
    "import numpy as np"
   ]
  },
  {
   "attachments": {},
   "cell_type": "markdown",
   "metadata": {},
   "source": [
    "Dataset provided in the assignment are:\n",
    "\n",
    "The dataset is about the compressive strength of different samples of concrete based on the volumes of the different ingredients that were used to make them. Ingredients include:\n",
    "1. Cement\n",
    "2. Blast Furnace Slag\n",
    "3. Fly Ash\n",
    "4. Water\n",
    "5. Superplasticizer\n",
    "6. Coarse Aggregate\n",
    "7. Fine Aggregate"
   ]
  },
  {
   "attachments": {},
   "cell_type": "markdown",
   "metadata": {},
   "source": [
    "To read the dataset into a <em>pandas</em> dataframe:"
   ]
  },
  {
   "cell_type": "code",
   "execution_count": 2,
   "metadata": {},
   "outputs": [
    {
     "data": {
      "text/html": [
       "<div>\n",
       "<style scoped>\n",
       "    .dataframe tbody tr th:only-of-type {\n",
       "        vertical-align: middle;\n",
       "    }\n",
       "\n",
       "    .dataframe tbody tr th {\n",
       "        vertical-align: top;\n",
       "    }\n",
       "\n",
       "    .dataframe thead th {\n",
       "        text-align: right;\n",
       "    }\n",
       "</style>\n",
       "<table border=\"1\" class=\"dataframe\">\n",
       "  <thead>\n",
       "    <tr style=\"text-align: right;\">\n",
       "      <th></th>\n",
       "      <th>Cement</th>\n",
       "      <th>Blast Furnace Slag</th>\n",
       "      <th>Fly Ash</th>\n",
       "      <th>Water</th>\n",
       "      <th>Superplasticizer</th>\n",
       "      <th>Coarse Aggregate</th>\n",
       "      <th>Fine Aggregate</th>\n",
       "      <th>Age</th>\n",
       "      <th>Strength</th>\n",
       "    </tr>\n",
       "  </thead>\n",
       "  <tbody>\n",
       "    <tr>\n",
       "      <th>0</th>\n",
       "      <td>540.0</td>\n",
       "      <td>0.0</td>\n",
       "      <td>0.0</td>\n",
       "      <td>162.0</td>\n",
       "      <td>2.5</td>\n",
       "      <td>1040.0</td>\n",
       "      <td>676.0</td>\n",
       "      <td>28</td>\n",
       "      <td>79.99</td>\n",
       "    </tr>\n",
       "    <tr>\n",
       "      <th>1</th>\n",
       "      <td>540.0</td>\n",
       "      <td>0.0</td>\n",
       "      <td>0.0</td>\n",
       "      <td>162.0</td>\n",
       "      <td>2.5</td>\n",
       "      <td>1055.0</td>\n",
       "      <td>676.0</td>\n",
       "      <td>28</td>\n",
       "      <td>61.89</td>\n",
       "    </tr>\n",
       "    <tr>\n",
       "      <th>2</th>\n",
       "      <td>332.5</td>\n",
       "      <td>142.5</td>\n",
       "      <td>0.0</td>\n",
       "      <td>228.0</td>\n",
       "      <td>0.0</td>\n",
       "      <td>932.0</td>\n",
       "      <td>594.0</td>\n",
       "      <td>270</td>\n",
       "      <td>40.27</td>\n",
       "    </tr>\n",
       "    <tr>\n",
       "      <th>3</th>\n",
       "      <td>332.5</td>\n",
       "      <td>142.5</td>\n",
       "      <td>0.0</td>\n",
       "      <td>228.0</td>\n",
       "      <td>0.0</td>\n",
       "      <td>932.0</td>\n",
       "      <td>594.0</td>\n",
       "      <td>365</td>\n",
       "      <td>41.05</td>\n",
       "    </tr>\n",
       "    <tr>\n",
       "      <th>4</th>\n",
       "      <td>198.6</td>\n",
       "      <td>132.4</td>\n",
       "      <td>0.0</td>\n",
       "      <td>192.0</td>\n",
       "      <td>0.0</td>\n",
       "      <td>978.4</td>\n",
       "      <td>825.5</td>\n",
       "      <td>360</td>\n",
       "      <td>44.30</td>\n",
       "    </tr>\n",
       "  </tbody>\n",
       "</table>\n",
       "</div>"
      ],
      "text/plain": [
       "   Cement  Blast Furnace Slag  Fly Ash  Water  Superplasticizer  \\\n",
       "0   540.0                 0.0      0.0  162.0               2.5   \n",
       "1   540.0                 0.0      0.0  162.0               2.5   \n",
       "2   332.5               142.5      0.0  228.0               0.0   \n",
       "3   332.5               142.5      0.0  228.0               0.0   \n",
       "4   198.6               132.4      0.0  192.0               0.0   \n",
       "\n",
       "   Coarse Aggregate  Fine Aggregate  Age  Strength  \n",
       "0            1040.0           676.0   28     79.99  \n",
       "1            1055.0           676.0   28     61.89  \n",
       "2             932.0           594.0  270     40.27  \n",
       "3             932.0           594.0  365     41.05  \n",
       "4             978.4           825.5  360     44.30  "
      ]
     },
     "execution_count": 2,
     "metadata": {},
     "output_type": "execute_result"
    }
   ],
   "source": [
    "concrete_data = pd.read_csv('concrete_data.csv')\n",
    "concrete_data.head()"
   ]
  },
  {
   "attachments": {},
   "cell_type": "markdown",
   "metadata": {},
   "source": [
    "So, the data suggests that the first sample has 540 cubic metres of cement, 0 cubic metres of blast furnace slag, 0 cubic metre of fly ash, 162 cubic meter of water, 2.5 cubic metres of superplaticizer, 1040 cubic metres of coarse aggregate and, 676 cubic metres of fine aggregate. \n",
    "This concrete mix which is 28 days old, has a compressive strength of 79.99 MPa. "
   ]
  },
  {
   "attachments": {},
   "cell_type": "markdown",
   "metadata": {},
   "source": [
    "<h4>So to check the number of data points:</h4>"
   ]
  },
  {
   "cell_type": "code",
   "execution_count": 3,
   "metadata": {},
   "outputs": [
    {
     "data": {
      "text/plain": [
       "(1030, 9)"
      ]
     },
     "execution_count": 3,
     "metadata": {},
     "output_type": "execute_result"
    }
   ],
   "source": [
    "concrete_data.shape"
   ]
  },
  {
   "attachments": {},
   "cell_type": "markdown",
   "metadata": {},
   "source": [
    "So, there are total of 1030 samples to train our model on. So, we should be very careful not to overfit the training data."
   ]
  },
  {
   "attachments": {},
   "cell_type": "markdown",
   "metadata": {},
   "source": [
    "We can use <i><u>concrete_data.describe()</u></i> to check the dataset for any missing values."
   ]
  },
  {
   "cell_type": "code",
   "execution_count": 4,
   "metadata": {},
   "outputs": [
    {
     "data": {
      "text/plain": [
       "Cement                0\n",
       "Blast Furnace Slag    0\n",
       "Fly Ash               0\n",
       "Water                 0\n",
       "Superplasticizer      0\n",
       "Coarse Aggregate      0\n",
       "Fine Aggregate        0\n",
       "Age                   0\n",
       "Strength              0\n",
       "dtype: int64"
      ]
     },
     "execution_count": 4,
     "metadata": {},
     "output_type": "execute_result"
    }
   ],
   "source": [
    "concrete_data.describe()\n",
    "concrete_data.isnull().sum()"
   ]
  },
  {
   "attachments": {},
   "cell_type": "markdown",
   "metadata": {},
   "source": [
    "So we can colclude that this dataset is very clean and thus it can be used safely to build our model."
   ]
  },
  {
   "attachments": {},
   "cell_type": "markdown",
   "metadata": {},
   "source": [
    "<h4>Split data into predictors and target</h4>"
   ]
  },
  {
   "cell_type": "markdown",
   "metadata": {},
   "source": [
    "The target variable in this problem is the concrete sample strength. Therefore, our predictors will be all the other columns."
   ]
  },
  {
   "cell_type": "code",
   "execution_count": 5,
   "metadata": {},
   "outputs": [],
   "source": [
    "concrete_data_columns = concrete_data.columns\n",
    "predictors = concrete_data[concrete_data_columns[concrete_data_columns != 'Strength']] # to get all columns except Strength\n",
    "target = concrete_data['Strength'] # to get Strength column"
   ]
  },
  {
   "attachments": {},
   "cell_type": "markdown",
   "metadata": {},
   "source": [
    "To make a sanity check  forthe data again for sake of the predictors and the target dataframes."
   ]
  },
  {
   "cell_type": "code",
   "execution_count": 6,
   "metadata": {},
   "outputs": [
    {
     "data": {
      "text/html": [
       "<div>\n",
       "<style scoped>\n",
       "    .dataframe tbody tr th:only-of-type {\n",
       "        vertical-align: middle;\n",
       "    }\n",
       "\n",
       "    .dataframe tbody tr th {\n",
       "        vertical-align: top;\n",
       "    }\n",
       "\n",
       "    .dataframe thead th {\n",
       "        text-align: right;\n",
       "    }\n",
       "</style>\n",
       "<table border=\"1\" class=\"dataframe\">\n",
       "  <thead>\n",
       "    <tr style=\"text-align: right;\">\n",
       "      <th></th>\n",
       "      <th>Cement</th>\n",
       "      <th>Blast Furnace Slag</th>\n",
       "      <th>Fly Ash</th>\n",
       "      <th>Water</th>\n",
       "      <th>Superplasticizer</th>\n",
       "      <th>Coarse Aggregate</th>\n",
       "      <th>Fine Aggregate</th>\n",
       "      <th>Age</th>\n",
       "    </tr>\n",
       "  </thead>\n",
       "  <tbody>\n",
       "    <tr>\n",
       "      <th>0</th>\n",
       "      <td>540.0</td>\n",
       "      <td>0.0</td>\n",
       "      <td>0.0</td>\n",
       "      <td>162.0</td>\n",
       "      <td>2.5</td>\n",
       "      <td>1040.0</td>\n",
       "      <td>676.0</td>\n",
       "      <td>28</td>\n",
       "    </tr>\n",
       "    <tr>\n",
       "      <th>1</th>\n",
       "      <td>540.0</td>\n",
       "      <td>0.0</td>\n",
       "      <td>0.0</td>\n",
       "      <td>162.0</td>\n",
       "      <td>2.5</td>\n",
       "      <td>1055.0</td>\n",
       "      <td>676.0</td>\n",
       "      <td>28</td>\n",
       "    </tr>\n",
       "    <tr>\n",
       "      <th>2</th>\n",
       "      <td>332.5</td>\n",
       "      <td>142.5</td>\n",
       "      <td>0.0</td>\n",
       "      <td>228.0</td>\n",
       "      <td>0.0</td>\n",
       "      <td>932.0</td>\n",
       "      <td>594.0</td>\n",
       "      <td>270</td>\n",
       "    </tr>\n",
       "    <tr>\n",
       "      <th>3</th>\n",
       "      <td>332.5</td>\n",
       "      <td>142.5</td>\n",
       "      <td>0.0</td>\n",
       "      <td>228.0</td>\n",
       "      <td>0.0</td>\n",
       "      <td>932.0</td>\n",
       "      <td>594.0</td>\n",
       "      <td>365</td>\n",
       "    </tr>\n",
       "    <tr>\n",
       "      <th>4</th>\n",
       "      <td>198.6</td>\n",
       "      <td>132.4</td>\n",
       "      <td>0.0</td>\n",
       "      <td>192.0</td>\n",
       "      <td>0.0</td>\n",
       "      <td>978.4</td>\n",
       "      <td>825.5</td>\n",
       "      <td>360</td>\n",
       "    </tr>\n",
       "  </tbody>\n",
       "</table>\n",
       "</div>"
      ],
      "text/plain": [
       "   Cement  Blast Furnace Slag  Fly Ash  Water  Superplasticizer  \\\n",
       "0   540.0                 0.0      0.0  162.0               2.5   \n",
       "1   540.0                 0.0      0.0  162.0               2.5   \n",
       "2   332.5               142.5      0.0  228.0               0.0   \n",
       "3   332.5               142.5      0.0  228.0               0.0   \n",
       "4   198.6               132.4      0.0  192.0               0.0   \n",
       "\n",
       "   Coarse Aggregate  Fine Aggregate  Age  \n",
       "0            1040.0           676.0   28  \n",
       "1            1055.0           676.0   28  \n",
       "2             932.0           594.0  270  \n",
       "3             932.0           594.0  365  \n",
       "4             978.4           825.5  360  "
      ]
     },
     "execution_count": 6,
     "metadata": {},
     "output_type": "execute_result"
    }
   ],
   "source": [
    "predictors.head()"
   ]
  },
  {
   "cell_type": "code",
   "execution_count": 7,
   "metadata": {},
   "outputs": [
    {
     "data": {
      "text/plain": [
       "0    79.99\n",
       "1    61.89\n",
       "2    40.27\n",
       "3    41.05\n",
       "4    44.30\n",
       "Name: Strength, dtype: float64"
      ]
     },
     "execution_count": 7,
     "metadata": {},
     "output_type": "execute_result"
    }
   ],
   "source": [
    "target.head()"
   ]
  },
  {
   "attachments": {},
   "cell_type": "markdown",
   "metadata": {},
   "source": [
    "So, it looks clean again."
   ]
  },
  {
   "cell_type": "markdown",
   "metadata": {},
   "source": [
    "Finally, the last step is to normalize the data by substracting the mean and dividing by the standard deviation."
   ]
  },
  {
   "cell_type": "code",
   "execution_count": 8,
   "metadata": {},
   "outputs": [
    {
     "data": {
      "text/html": [
       "<div>\n",
       "<style scoped>\n",
       "    .dataframe tbody tr th:only-of-type {\n",
       "        vertical-align: middle;\n",
       "    }\n",
       "\n",
       "    .dataframe tbody tr th {\n",
       "        vertical-align: top;\n",
       "    }\n",
       "\n",
       "    .dataframe thead th {\n",
       "        text-align: right;\n",
       "    }\n",
       "</style>\n",
       "<table border=\"1\" class=\"dataframe\">\n",
       "  <thead>\n",
       "    <tr style=\"text-align: right;\">\n",
       "      <th></th>\n",
       "      <th>Cement</th>\n",
       "      <th>Blast Furnace Slag</th>\n",
       "      <th>Fly Ash</th>\n",
       "      <th>Water</th>\n",
       "      <th>Superplasticizer</th>\n",
       "      <th>Coarse Aggregate</th>\n",
       "      <th>Fine Aggregate</th>\n",
       "      <th>Age</th>\n",
       "    </tr>\n",
       "  </thead>\n",
       "  <tbody>\n",
       "    <tr>\n",
       "      <th>0</th>\n",
       "      <td>2.476712</td>\n",
       "      <td>-0.856472</td>\n",
       "      <td>-0.846733</td>\n",
       "      <td>-0.916319</td>\n",
       "      <td>-0.620147</td>\n",
       "      <td>0.862735</td>\n",
       "      <td>-1.217079</td>\n",
       "      <td>-0.279597</td>\n",
       "    </tr>\n",
       "    <tr>\n",
       "      <th>1</th>\n",
       "      <td>2.476712</td>\n",
       "      <td>-0.856472</td>\n",
       "      <td>-0.846733</td>\n",
       "      <td>-0.916319</td>\n",
       "      <td>-0.620147</td>\n",
       "      <td>1.055651</td>\n",
       "      <td>-1.217079</td>\n",
       "      <td>-0.279597</td>\n",
       "    </tr>\n",
       "    <tr>\n",
       "      <th>2</th>\n",
       "      <td>0.491187</td>\n",
       "      <td>0.795140</td>\n",
       "      <td>-0.846733</td>\n",
       "      <td>2.174405</td>\n",
       "      <td>-1.038638</td>\n",
       "      <td>-0.526262</td>\n",
       "      <td>-2.239829</td>\n",
       "      <td>3.551340</td>\n",
       "    </tr>\n",
       "    <tr>\n",
       "      <th>3</th>\n",
       "      <td>0.491187</td>\n",
       "      <td>0.795140</td>\n",
       "      <td>-0.846733</td>\n",
       "      <td>2.174405</td>\n",
       "      <td>-1.038638</td>\n",
       "      <td>-0.526262</td>\n",
       "      <td>-2.239829</td>\n",
       "      <td>5.055221</td>\n",
       "    </tr>\n",
       "    <tr>\n",
       "      <th>4</th>\n",
       "      <td>-0.790075</td>\n",
       "      <td>0.678079</td>\n",
       "      <td>-0.846733</td>\n",
       "      <td>0.488555</td>\n",
       "      <td>-1.038638</td>\n",
       "      <td>0.070492</td>\n",
       "      <td>0.647569</td>\n",
       "      <td>4.976069</td>\n",
       "    </tr>\n",
       "  </tbody>\n",
       "</table>\n",
       "</div>"
      ],
      "text/plain": [
       "     Cement  Blast Furnace Slag   Fly Ash     Water  Superplasticizer  \\\n",
       "0  2.476712           -0.856472 -0.846733 -0.916319         -0.620147   \n",
       "1  2.476712           -0.856472 -0.846733 -0.916319         -0.620147   \n",
       "2  0.491187            0.795140 -0.846733  2.174405         -1.038638   \n",
       "3  0.491187            0.795140 -0.846733  2.174405         -1.038638   \n",
       "4 -0.790075            0.678079 -0.846733  0.488555         -1.038638   \n",
       "\n",
       "   Coarse Aggregate  Fine Aggregate       Age  \n",
       "0          0.862735       -1.217079 -0.279597  \n",
       "1          1.055651       -1.217079 -0.279597  \n",
       "2         -0.526262       -2.239829  3.551340  \n",
       "3         -0.526262       -2.239829  5.055221  \n",
       "4          0.070492        0.647569  4.976069  "
      ]
     },
     "execution_count": 8,
     "metadata": {},
     "output_type": "execute_result"
    }
   ],
   "source": [
    "predictors_norm = (predictors - predictors.mean()) / predictors.std()\n",
    "predictors_norm.head()"
   ]
  },
  {
   "cell_type": "code",
   "execution_count": 9,
   "metadata": {},
   "outputs": [
    {
     "data": {
      "text/plain": [
       "8"
      ]
     },
     "execution_count": 9,
     "metadata": {},
     "output_type": "execute_result"
    }
   ],
   "source": [
    "number_cols = predictors_norm.shape[1] # number of predictors\n",
    "number_cols"
   ]
  },
  {
   "cell_type": "markdown",
   "metadata": {},
   "source": [
    "<a id=\"item1\"></a>"
   ]
  },
  {
   "cell_type": "markdown",
   "metadata": {},
   "source": [
    "<a id=\"item1\"></a>"
   ]
  },
  {
   "attachments": {},
   "cell_type": "markdown",
   "metadata": {},
   "source": [
    "## Importing Keras"
   ]
  },
  {
   "attachments": {},
   "cell_type": "markdown",
   "metadata": {},
   "source": [
    "#### Now we have to import the Keras library for the actual work"
   ]
  },
  {
   "cell_type": "code",
   "execution_count": 10,
   "metadata": {},
   "outputs": [],
   "source": [
    "import keras"
   ]
  },
  {
   "attachments": {},
   "cell_type": "markdown",
   "metadata": {},
   "source": [
    "To use Keras, we first have to install the TensorFlow backend, which would be used to install the Keras library."
   ]
  },
  {
   "attachments": {},
   "cell_type": "markdown",
   "metadata": {},
   "source": [
    "Now, to import the rest of the packages from the Keras library that we will need to build our regressoin model."
   ]
  },
  {
   "cell_type": "code",
   "execution_count": 11,
   "metadata": {},
   "outputs": [],
   "source": [
    "from keras.models import Sequential\n",
    "from keras.layers import Dense"
   ]
  },
  {
   "cell_type": "code",
   "execution_count": 12,
   "metadata": {},
   "outputs": [],
   "source": [
    "def regression_model():\n",
    "    # creating the model\n",
    "    model = Sequential()\n",
    "    model.add(Dense(10, activation='relu', input_shape=(number_cols,)))\n",
    "    model.add(Dense(1))\n",
    "    \n",
    "    # compiling the model\n",
    "    model.compile(optimizer='adam', loss='mean_squared_error')\n",
    "    return model"
   ]
  },
  {
   "attachments": {},
   "cell_type": "markdown",
   "metadata": {},
   "source": [
    "The regression_model function creates a model that has one hidden layer with 10 neurons and a ReLU activation function. It uses the adam optimizer and the mean squared error as the loss function."
   ]
  },
  {
   "cell_type": "markdown",
   "metadata": {},
   "source": [
    "Let's import scikit-learn in order to randomly split the data into a training and test sets"
   ]
  },
  {
   "cell_type": "code",
   "execution_count": 13,
   "metadata": {},
   "outputs": [],
   "source": [
    "from sklearn.model_selection import train_test_split"
   ]
  },
  {
   "attachments": {},
   "cell_type": "markdown",
   "metadata": {},
   "source": [
    "Now, let's split the data into a training and test sets by holding 30% of the data for testing"
   ]
  },
  {
   "cell_type": "code",
   "execution_count": 14,
   "metadata": {},
   "outputs": [],
   "source": [
    "X_train, X_test, y_train, y_test = train_test_split(predictors_norm, target, test_size=0.3, random_state=42)\n"
   ]
  },
  {
   "attachments": {},
   "cell_type": "markdown",
   "metadata": {},
   "source": [
    "### Training and Testing the Network"
   ]
  },
  {
   "attachments": {},
   "cell_type": "markdown",
   "metadata": {},
   "source": [
    "Call the function now to create our model."
   ]
  },
  {
   "cell_type": "code",
   "execution_count": 15,
   "metadata": {},
   "outputs": [],
   "source": [
    "# building the model\n",
    "model = regression_model()"
   ]
  },
  {
   "cell_type": "markdown",
   "metadata": {},
   "source": [
    "Next, we will train the model for 50 epochs.\n"
   ]
  },
  {
   "cell_type": "code",
   "execution_count": 16,
   "metadata": {},
   "outputs": [
    {
     "name": "stdout",
     "output_type": "stream",
     "text": [
      "Epoch 1/50\n",
      "23/23 - 0s - loss: 1593.9716 - 398ms/epoch - 17ms/step\n",
      "Epoch 2/50\n",
      "23/23 - 0s - loss: 1575.6439 - 16ms/epoch - 694us/step\n",
      "Epoch 3/50\n",
      "23/23 - 0s - loss: 1557.7467 - 19ms/epoch - 824us/step\n",
      "Epoch 4/50\n",
      "23/23 - 0s - loss: 1539.5619 - 24ms/epoch - 1ms/step\n",
      "Epoch 5/50\n",
      "23/23 - 0s - loss: 1521.3284 - 29ms/epoch - 1ms/step\n",
      "Epoch 6/50\n",
      "23/23 - 0s - loss: 1503.2220 - 20ms/epoch - 862us/step\n",
      "Epoch 7/50\n",
      "23/23 - 0s - loss: 1484.4989 - 27ms/epoch - 1ms/step\n",
      "Epoch 8/50\n",
      "23/23 - 0s - loss: 1465.1234 - 20ms/epoch - 889us/step\n",
      "Epoch 9/50\n",
      "23/23 - 0s - loss: 1445.5850 - 28ms/epoch - 1ms/step\n",
      "Epoch 10/50\n",
      "23/23 - 0s - loss: 1425.1364 - 20ms/epoch - 867us/step\n",
      "Epoch 11/50\n",
      "23/23 - 0s - loss: 1403.9861 - 20ms/epoch - 867us/step\n",
      "Epoch 12/50\n",
      "23/23 - 0s - loss: 1382.2852 - 19ms/epoch - 822us/step\n",
      "Epoch 13/50\n",
      "23/23 - 0s - loss: 1359.7911 - 33ms/epoch - 1ms/step\n",
      "Epoch 14/50\n",
      "23/23 - 0s - loss: 1336.7854 - 22ms/epoch - 954us/step\n",
      "Epoch 15/50\n",
      "23/23 - 0s - loss: 1312.9774 - 23ms/epoch - 997us/step\n",
      "Epoch 16/50\n",
      "23/23 - 0s - loss: 1288.7845 - 24ms/epoch - 1ms/step\n",
      "Epoch 17/50\n",
      "23/23 - 0s - loss: 1263.3488 - 22ms/epoch - 954us/step\n",
      "Epoch 18/50\n",
      "23/23 - 0s - loss: 1237.6659 - 22ms/epoch - 954us/step\n",
      "Epoch 19/50\n",
      "23/23 - 0s - loss: 1211.2869 - 20ms/epoch - 886us/step\n",
      "Epoch 20/50\n",
      "23/23 - 0s - loss: 1184.6313 - 49ms/epoch - 2ms/step\n",
      "Epoch 21/50\n",
      "23/23 - 0s - loss: 1157.1851 - 28ms/epoch - 1ms/step\n",
      "Epoch 22/50\n",
      "23/23 - 0s - loss: 1129.3683 - 22ms/epoch - 954us/step\n",
      "Epoch 23/50\n",
      "23/23 - 0s - loss: 1101.0880 - 22ms/epoch - 976us/step\n",
      "Epoch 24/50\n",
      "23/23 - 0s - loss: 1072.8444 - 26ms/epoch - 1ms/step\n",
      "Epoch 25/50\n",
      "23/23 - 0s - loss: 1043.9801 - 29ms/epoch - 1ms/step\n",
      "Epoch 26/50\n",
      "23/23 - 0s - loss: 1015.1024 - 20ms/epoch - 873us/step\n",
      "Epoch 27/50\n",
      "23/23 - 0s - loss: 985.8994 - 26ms/epoch - 1ms/step\n",
      "Epoch 28/50\n",
      "23/23 - 0s - loss: 957.2717 - 24ms/epoch - 1ms/step\n",
      "Epoch 29/50\n",
      "23/23 - 0s - loss: 928.4838 - 21ms/epoch - 910us/step\n",
      "Epoch 30/50\n",
      "23/23 - 0s - loss: 899.9214 - 29ms/epoch - 1ms/step\n",
      "Epoch 31/50\n",
      "23/23 - 0s - loss: 871.1125 - 33ms/epoch - 1ms/step\n",
      "Epoch 32/50\n",
      "23/23 - 0s - loss: 842.8176 - 22ms/epoch - 954us/step\n",
      "Epoch 33/50\n",
      "23/23 - 0s - loss: 814.7452 - 20ms/epoch - 867us/step\n",
      "Epoch 34/50\n",
      "23/23 - 0s - loss: 787.1835 - 22ms/epoch - 952us/step\n",
      "Epoch 35/50\n",
      "23/23 - 0s - loss: 760.2734 - 29ms/epoch - 1ms/step\n",
      "Epoch 36/50\n",
      "23/23 - 0s - loss: 733.7114 - 26ms/epoch - 1ms/step\n",
      "Epoch 37/50\n",
      "23/23 - 0s - loss: 707.8824 - 24ms/epoch - 1ms/step\n",
      "Epoch 38/50\n",
      "23/23 - 0s - loss: 682.4198 - 23ms/epoch - 997us/step\n",
      "Epoch 39/50\n",
      "23/23 - 0s - loss: 658.1517 - 23ms/epoch - 997us/step\n",
      "Epoch 40/50\n",
      "23/23 - 0s - loss: 634.2842 - 28ms/epoch - 1ms/step\n",
      "Epoch 41/50\n",
      "23/23 - 0s - loss: 610.7820 - 22ms/epoch - 977us/step\n",
      "Epoch 42/50\n",
      "23/23 - 0s - loss: 589.1183 - 37ms/epoch - 2ms/step\n",
      "Epoch 43/50\n",
      "23/23 - 0s - loss: 567.0114 - 28ms/epoch - 1ms/step\n",
      "Epoch 44/50\n",
      "23/23 - 0s - loss: 546.2952 - 22ms/epoch - 954us/step\n",
      "Epoch 45/50\n",
      "23/23 - 0s - loss: 526.6028 - 24ms/epoch - 1ms/step\n",
      "Epoch 46/50\n",
      "23/23 - 0s - loss: 507.3736 - 23ms/epoch - 997us/step\n",
      "Epoch 47/50\n",
      "23/23 - 0s - loss: 489.3276 - 22ms/epoch - 954us/step\n",
      "Epoch 48/50\n",
      "23/23 - 0s - loss: 472.0159 - 21ms/epoch - 911us/step\n",
      "Epoch 49/50\n",
      "23/23 - 0s - loss: 455.3800 - 25ms/epoch - 1ms/step\n",
      "Epoch 50/50\n",
      "23/23 - 0s - loss: 439.5592 - 20ms/epoch - 867us/step\n"
     ]
    },
    {
     "data": {
      "text/plain": [
       "<keras.callbacks.History at 0x1fa92b11240>"
      ]
     },
     "execution_count": 16,
     "metadata": {},
     "output_type": "execute_result"
    }
   ],
   "source": [
    "# fiting the model\n",
    "epochs = 50\n",
    "model.fit(X_train, y_train, epochs=epochs, verbose=2)"
   ]
  },
  {
   "cell_type": "markdown",
   "metadata": {},
   "source": [
    "Next we need to evaluate the model on the test data."
   ]
  },
  {
   "cell_type": "code",
   "execution_count": 17,
   "metadata": {},
   "outputs": [
    {
     "name": "stdout",
     "output_type": "stream",
     "text": [
      "10/10 [==============================] - 0s 1ms/step - loss: 411.5313\n",
      "10/10 [==============================] - 0s 826us/step\n"
     ]
    },
    {
     "data": {
      "text/plain": [
       "411.5313415527344"
      ]
     },
     "execution_count": 17,
     "metadata": {},
     "output_type": "execute_result"
    }
   ],
   "source": [
    "loss_val = model.evaluate(X_test, y_test)\n",
    "y_pred = model.predict(X_test)\n",
    "loss_val"
   ]
  },
  {
   "cell_type": "markdown",
   "metadata": {},
   "source": [
    "Now we need to compute the mean squared error between the predicted concrete strength and the actual concrete strength."
   ]
  },
  {
   "cell_type": "markdown",
   "metadata": {},
   "source": [
    "Let's import the mean_squared_error function from Scikit-learn."
   ]
  },
  {
   "cell_type": "code",
   "execution_count": 18,
   "metadata": {},
   "outputs": [],
   "source": [
    "from sklearn.metrics import mean_squared_error"
   ]
  },
  {
   "cell_type": "code",
   "execution_count": 19,
   "metadata": {},
   "outputs": [
    {
     "name": "stdout",
     "output_type": "stream",
     "text": [
      "411.5313451982344 0.0\n"
     ]
    }
   ],
   "source": [
    "mean_square_error = mean_squared_error(y_test, y_pred)\n",
    "mean = np.mean(mean_square_error)\n",
    "standard_deviation = np.std(mean_square_error)\n",
    "print(mean, standard_deviation)"
   ]
  },
  {
   "cell_type": "markdown",
   "metadata": {},
   "source": [
    "Create a list of 50 mean squared errors and report mean and the standard deviation of the mean squared errors."
   ]
  },
  {
   "cell_type": "code",
   "execution_count": 20,
   "metadata": {},
   "outputs": [
    {
     "name": "stdout",
     "output_type": "stream",
     "text": [
      "MSE 1: 114.78933715820312\n",
      "10/10 [==============================] - 0s 772us/step\n",
      "MSE 2: 82.453369140625\n",
      "10/10 [==============================] - 0s 717us/step\n",
      "MSE 3: 45.580142974853516\n",
      "10/10 [==============================] - 0s 776us/step\n",
      "MSE 4: 41.74267578125\n",
      "10/10 [==============================] - 0s 0s/step\n",
      "MSE 5: 40.5206298828125\n",
      "10/10 [==============================] - 0s 841us/step\n",
      "MSE 6: 43.09029006958008\n",
      "10/10 [==============================] - 0s 2ms/step\n",
      "MSE 7: 41.769004821777344\n",
      "10/10 [==============================] - 0s 2ms/step\n",
      "MSE 8: 32.778472900390625\n",
      "10/10 [==============================] - 0s 0s/step\n",
      "MSE 9: 34.11531066894531\n",
      "10/10 [==============================] - 0s 776us/step\n",
      "MSE 10: 34.24369430541992\n",
      "10/10 [==============================] - 0s 940us/step\n",
      "MSE 11: 34.17572021484375\n",
      "10/10 [==============================] - 0s 662us/step\n",
      "MSE 12: 29.907691955566406\n",
      "10/10 [==============================] - 0s 776us/step\n",
      "MSE 13: 38.792686462402344\n",
      "10/10 [==============================] - 0s 779us/step\n",
      "MSE 14: 39.97535705566406\n",
      "10/10 [==============================] - 0s 998us/step\n",
      "MSE 15: 31.027729034423828\n",
      "10/10 [==============================] - 0s 776us/step\n",
      "MSE 16: 28.677968978881836\n",
      "10/10 [==============================] - 0s 886us/step\n",
      "MSE 17: 31.06145477294922\n",
      "10/10 [==============================] - 0s 776us/step\n",
      "MSE 18: 31.861587524414062\n",
      "10/10 [==============================] - 0s 776us/step\n",
      "MSE 19: 29.085220336914062\n",
      "10/10 [==============================] - 0s 1ms/step\n",
      "MSE 20: 31.01597023010254\n",
      "10/10 [==============================] - 0s 776us/step\n",
      "MSE 21: 30.483673095703125\n",
      "10/10 [==============================] - 0s 779us/step\n",
      "MSE 22: 28.78046989440918\n",
      "10/10 [==============================] - 0s 715us/step\n",
      "MSE 23: 27.061399459838867\n",
      "10/10 [==============================] - 0s 665us/step\n",
      "MSE 24: 29.793113708496094\n",
      "10/10 [==============================] - 0s 698us/step\n",
      "MSE 25: 32.23766326904297\n",
      "10/10 [==============================] - 0s 668us/step\n",
      "MSE 26: 32.959449768066406\n",
      "10/10 [==============================] - 0s 776us/step\n",
      "MSE 27: 29.16006088256836\n",
      "10/10 [==============================] - 0s 776us/step\n",
      "MSE 28: 27.170753479003906\n",
      "10/10 [==============================] - 0s 739us/step\n",
      "MSE 29: 32.585357666015625\n",
      "10/10 [==============================] - 0s 669us/step\n",
      "MSE 30: 30.531761169433594\n",
      "10/10 [==============================] - 0s 669us/step\n",
      "MSE 31: 28.45596694946289\n",
      "10/10 [==============================] - 0s 732us/step\n",
      "MSE 32: 26.5214786529541\n",
      "10/10 [==============================] - 0s 776us/step\n",
      "MSE 33: 25.684965133666992\n",
      "10/10 [==============================] - 0s 722us/step\n",
      "MSE 34: 30.99464225769043\n",
      "10/10 [==============================] - 0s 976us/step\n",
      "MSE 35: 31.8928279876709\n",
      "10/10 [==============================] - 0s 709us/step\n",
      "MSE 36: 33.99687576293945\n",
      "10/10 [==============================] - 0s 736us/step\n",
      "MSE 37: 25.270774841308594\n",
      "10/10 [==============================] - 0s 666us/step\n",
      "MSE 38: 31.84913444519043\n",
      "10/10 [==============================] - 0s 763us/step\n",
      "MSE 39: 28.323915481567383\n",
      "10/10 [==============================] - 0s 770us/step\n",
      "MSE 40: 26.916255950927734\n",
      "10/10 [==============================] - 0s 882us/step\n",
      "MSE 41: 30.59244155883789\n",
      "10/10 [==============================] - 0s 665us/step\n",
      "MSE 42: 24.150976181030273\n",
      "10/10 [==============================] - 0s 732us/step\n",
      "MSE 43: 28.299068450927734\n",
      "10/10 [==============================] - 0s 734us/step\n",
      "MSE 44: 32.14072036743164\n",
      "10/10 [==============================] - 0s 761us/step\n",
      "MSE 45: 30.402868270874023\n",
      "10/10 [==============================] - 0s 665us/step\n",
      "MSE 46: 27.75213623046875\n",
      "10/10 [==============================] - 0s 660us/step\n",
      "MSE 47: 28.171489715576172\n",
      "10/10 [==============================] - 0s 861us/step\n",
      "MSE 48: 29.05811882019043\n",
      "10/10 [==============================] - 0s 665us/step\n",
      "MSE 49: 31.546205520629883\n",
      "10/10 [==============================] - 0s 665us/step\n",
      "MSE 50: 30.519683837890625\n",
      "10/10 [==============================] - 0s 604us/step\n",
      "\n",
      "\n",
      "Below is the mean and standard deviation of 50 mean squared errors with normalized data. Total number of epochs for each training is: 100\n",
      "\n",
      "Mean: 34.39937149599652\n",
      "Standard Deviation: 14.287043857946875\n"
     ]
    }
   ],
   "source": [
    "total_mean_squared_errors = 50\n",
    "epochs = 100\n",
    "mean_squared_errors = []\n",
    "for i in range(0, total_mean_squared_errors):\n",
    "    X_train, X_test, y_train, y_test = train_test_split(\n",
    "        predictors_norm, target, test_size=0.3, random_state=i)\n",
    "    model.fit(X_train, y_train, epochs=epochs, verbose=0)\n",
    "    MSE = model.evaluate(X_test, y_test, verbose=0)\n",
    "    print(\"MSE \"+str(i+1)+\": \"+str(MSE))\n",
    "    y_pred = model.predict(X_test)\n",
    "    mean_square_error = mean_squared_error(y_test, y_pred)\n",
    "    mean_squared_errors.append(mean_square_error)\n",
    "\n",
    "mean_squared_errors = np.array(mean_squared_errors)\n",
    "mean = np.mean(mean_squared_errors)\n",
    "standard_deviation = np.std(mean_squared_errors)\n",
    "\n",
    "print('\\n')\n",
    "print(\"Below is the mean and standard deviation of \" + str(total_mean_squared_errors) +\n",
    "      \" mean squared errors with normalized data. Total number of epochs for each training is: \" + str(epochs) + \"\\n\")\n",
    "print(\"Mean: \"+str(mean))\n",
    "print(\"Standard Deviation: \"+str(standard_deviation))"
   ]
  }
 ],
 "metadata": {
  "kernelspec": {
   "display_name": "Python 3",
   "language": "python",
   "name": "python3"
  },
  "language_info": {
   "codemirror_mode": {
    "name": "ipython",
    "version": 3
   },
   "file_extension": ".py",
   "mimetype": "text/x-python",
   "name": "python",
   "nbconvert_exporter": "python",
   "pygments_lexer": "ipython3",
   "version": "3.10.8"
  },
  "vscode": {
   "interpreter": {
    "hash": "888d31709ca79bf2a80bc0cbceb317f731f8ef13079c8a5ef9dcc0d9b6d5aff0"
   }
  }
 },
 "nbformat": 4,
 "nbformat_minor": 2
}
