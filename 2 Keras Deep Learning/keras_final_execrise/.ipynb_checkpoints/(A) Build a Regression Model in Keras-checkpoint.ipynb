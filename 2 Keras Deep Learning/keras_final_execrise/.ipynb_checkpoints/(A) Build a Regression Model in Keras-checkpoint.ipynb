{
 "cells": [
  {
   "cell_type": "markdown",
   "metadata": {},
   "source": [
    "First we have to import libraries such as the <em>pandas</em> and the Numpy libraries."
   ]
  },
  {
   "cell_type": "code",
   "execution_count": 1,
   "metadata": {},
   "outputs": [],
   "source": [
    "import pandas as pd\n",
    "import numpy as np"
   ]
  },
  {
   "attachments": {},
   "cell_type": "markdown",
   "metadata": {},
   "source": [
    "Dataset provided in the assignment are:\n",
    "\n",
    "The dataset is about the compressive strength of different samples of concrete based on the volumes of the different ingredients that were used to make them. Ingredients include:\n",
    "1. Cement\n",
    "2. Blast Furnace Slag\n",
    "3. Fly Ash\n",
    "4. Water\n",
    "5. Superplasticizer\n",
    "6. Coarse Aggregate\n",
    "7. Fine Aggregate"
   ]
  },
  {
   "attachments": {},
   "cell_type": "markdown",
   "metadata": {},
   "source": [
    "To read the dataset into a <em>pandas</em> dataframe:"
   ]
  },
  {
   "cell_type": "code",
   "execution_count": 2,
   "metadata": {},
   "outputs": [
    {
     "data": {
      "text/html": [
       "<div>\n",
       "<style scoped>\n",
       "    .dataframe tbody tr th:only-of-type {\n",
       "        vertical-align: middle;\n",
       "    }\n",
       "\n",
       "    .dataframe tbody tr th {\n",
       "        vertical-align: top;\n",
       "    }\n",
       "\n",
       "    .dataframe thead th {\n",
       "        text-align: right;\n",
       "    }\n",
       "</style>\n",
       "<table border=\"1\" class=\"dataframe\">\n",
       "  <thead>\n",
       "    <tr style=\"text-align: right;\">\n",
       "      <th></th>\n",
       "      <th>Cement</th>\n",
       "      <th>Blast Furnace Slag</th>\n",
       "      <th>Fly Ash</th>\n",
       "      <th>Water</th>\n",
       "      <th>Superplasticizer</th>\n",
       "      <th>Coarse Aggregate</th>\n",
       "      <th>Fine Aggregate</th>\n",
       "      <th>Age</th>\n",
       "      <th>Strength</th>\n",
       "    </tr>\n",
       "  </thead>\n",
       "  <tbody>\n",
       "    <tr>\n",
       "      <th>0</th>\n",
       "      <td>540.0</td>\n",
       "      <td>0.0</td>\n",
       "      <td>0.0</td>\n",
       "      <td>162.0</td>\n",
       "      <td>2.5</td>\n",
       "      <td>1040.0</td>\n",
       "      <td>676.0</td>\n",
       "      <td>28</td>\n",
       "      <td>79.99</td>\n",
       "    </tr>\n",
       "    <tr>\n",
       "      <th>1</th>\n",
       "      <td>540.0</td>\n",
       "      <td>0.0</td>\n",
       "      <td>0.0</td>\n",
       "      <td>162.0</td>\n",
       "      <td>2.5</td>\n",
       "      <td>1055.0</td>\n",
       "      <td>676.0</td>\n",
       "      <td>28</td>\n",
       "      <td>61.89</td>\n",
       "    </tr>\n",
       "    <tr>\n",
       "      <th>2</th>\n",
       "      <td>332.5</td>\n",
       "      <td>142.5</td>\n",
       "      <td>0.0</td>\n",
       "      <td>228.0</td>\n",
       "      <td>0.0</td>\n",
       "      <td>932.0</td>\n",
       "      <td>594.0</td>\n",
       "      <td>270</td>\n",
       "      <td>40.27</td>\n",
       "    </tr>\n",
       "    <tr>\n",
       "      <th>3</th>\n",
       "      <td>332.5</td>\n",
       "      <td>142.5</td>\n",
       "      <td>0.0</td>\n",
       "      <td>228.0</td>\n",
       "      <td>0.0</td>\n",
       "      <td>932.0</td>\n",
       "      <td>594.0</td>\n",
       "      <td>365</td>\n",
       "      <td>41.05</td>\n",
       "    </tr>\n",
       "    <tr>\n",
       "      <th>4</th>\n",
       "      <td>198.6</td>\n",
       "      <td>132.4</td>\n",
       "      <td>0.0</td>\n",
       "      <td>192.0</td>\n",
       "      <td>0.0</td>\n",
       "      <td>978.4</td>\n",
       "      <td>825.5</td>\n",
       "      <td>360</td>\n",
       "      <td>44.30</td>\n",
       "    </tr>\n",
       "  </tbody>\n",
       "</table>\n",
       "</div>"
      ],
      "text/plain": [
       "   Cement  Blast Furnace Slag  Fly Ash  Water  Superplasticizer  \\\n",
       "0   540.0                 0.0      0.0  162.0               2.5   \n",
       "1   540.0                 0.0      0.0  162.0               2.5   \n",
       "2   332.5               142.5      0.0  228.0               0.0   \n",
       "3   332.5               142.5      0.0  228.0               0.0   \n",
       "4   198.6               132.4      0.0  192.0               0.0   \n",
       "\n",
       "   Coarse Aggregate  Fine Aggregate  Age  Strength  \n",
       "0            1040.0           676.0   28     79.99  \n",
       "1            1055.0           676.0   28     61.89  \n",
       "2             932.0           594.0  270     40.27  \n",
       "3             932.0           594.0  365     41.05  \n",
       "4             978.4           825.5  360     44.30  "
      ]
     },
     "execution_count": 2,
     "metadata": {},
     "output_type": "execute_result"
    }
   ],
   "source": [
    "concrete_data = pd.read_csv('concrete_data.csv')\n",
    "concrete_data.head()"
   ]
  },
  {
   "attachments": {},
   "cell_type": "markdown",
   "metadata": {},
   "source": [
    "So, the data suggests that the first sample has 540 cubic metres of cement, 0 cubic metres of blast furnace slag, 0 cubic metre of fly ash, 162 cubic meter of water, 2.5 cubic metres of superplaticizer, 1040 cubic metres of coarse aggregate and, 676 cubic metres of fine aggregate. \n",
    "This concrete mix which is 28 days old, has a compressive strength of 79.99 MPa. "
   ]
  },
  {
   "attachments": {},
   "cell_type": "markdown",
   "metadata": {},
   "source": [
    "<h4>So to check the number of data points:</h4>"
   ]
  },
  {
   "cell_type": "code",
   "execution_count": 3,
   "metadata": {},
   "outputs": [
    {
     "data": {
      "text/plain": [
       "(1030, 9)"
      ]
     },
     "execution_count": 3,
     "metadata": {},
     "output_type": "execute_result"
    }
   ],
   "source": [
    "concrete_data.shape"
   ]
  },
  {
   "attachments": {},
   "cell_type": "markdown",
   "metadata": {},
   "source": [
    "So, there are total of 1030 samples to train our model on. So, we should be very careful not to overfit the training data."
   ]
  },
  {
   "attachments": {},
   "cell_type": "markdown",
   "metadata": {},
   "source": [
    "We can use <i><u>concrete_data.describe()</u></i> to check the dataset for any missing values."
   ]
  },
  {
   "cell_type": "code",
   "execution_count": 4,
   "metadata": {},
   "outputs": [
    {
     "data": {
      "text/plain": [
       "Cement                0\n",
       "Blast Furnace Slag    0\n",
       "Fly Ash               0\n",
       "Water                 0\n",
       "Superplasticizer      0\n",
       "Coarse Aggregate      0\n",
       "Fine Aggregate        0\n",
       "Age                   0\n",
       "Strength              0\n",
       "dtype: int64"
      ]
     },
     "execution_count": 4,
     "metadata": {},
     "output_type": "execute_result"
    }
   ],
   "source": [
    "concrete_data.describe()\n",
    "concrete_data.isnull().sum()"
   ]
  },
  {
   "attachments": {},
   "cell_type": "markdown",
   "metadata": {},
   "source": [
    "So we can colclude that this dataset is very clean and thus it can be used safely to build our model."
   ]
  },
  {
   "attachments": {},
   "cell_type": "markdown",
   "metadata": {},
   "source": [
    "<h4>Split data into predictors and target</h4>"
   ]
  },
  {
   "cell_type": "markdown",
   "metadata": {},
   "source": [
    "The target variable in this problem is the concrete sample strength. Therefore, our predictors will be all the other columns."
   ]
  },
  {
   "cell_type": "code",
   "execution_count": 5,
   "metadata": {},
   "outputs": [],
   "source": [
    "data_columns = concrete_data.columns\n",
    "predictors = concrete_data[data_columns[data_columns != 'Strength']] # to get all columns except Strength\n",
    "target = concrete_data['Strength'] # to get Strength column"
   ]
  },
  {
   "attachments": {},
   "cell_type": "markdown",
   "metadata": {},
   "source": [
    "To make a sanity check  forthe data again for sake of the predictors and the target dataframes."
   ]
  },
  {
   "cell_type": "code",
   "execution_count": 6,
   "metadata": {},
   "outputs": [
    {
     "data": {
      "text/html": [
       "<div>\n",
       "<style scoped>\n",
       "    .dataframe tbody tr th:only-of-type {\n",
       "        vertical-align: middle;\n",
       "    }\n",
       "\n",
       "    .dataframe tbody tr th {\n",
       "        vertical-align: top;\n",
       "    }\n",
       "\n",
       "    .dataframe thead th {\n",
       "        text-align: right;\n",
       "    }\n",
       "</style>\n",
       "<table border=\"1\" class=\"dataframe\">\n",
       "  <thead>\n",
       "    <tr style=\"text-align: right;\">\n",
       "      <th></th>\n",
       "      <th>Cement</th>\n",
       "      <th>Blast Furnace Slag</th>\n",
       "      <th>Fly Ash</th>\n",
       "      <th>Water</th>\n",
       "      <th>Superplasticizer</th>\n",
       "      <th>Coarse Aggregate</th>\n",
       "      <th>Fine Aggregate</th>\n",
       "      <th>Age</th>\n",
       "    </tr>\n",
       "  </thead>\n",
       "  <tbody>\n",
       "    <tr>\n",
       "      <th>0</th>\n",
       "      <td>540.0</td>\n",
       "      <td>0.0</td>\n",
       "      <td>0.0</td>\n",
       "      <td>162.0</td>\n",
       "      <td>2.5</td>\n",
       "      <td>1040.0</td>\n",
       "      <td>676.0</td>\n",
       "      <td>28</td>\n",
       "    </tr>\n",
       "    <tr>\n",
       "      <th>1</th>\n",
       "      <td>540.0</td>\n",
       "      <td>0.0</td>\n",
       "      <td>0.0</td>\n",
       "      <td>162.0</td>\n",
       "      <td>2.5</td>\n",
       "      <td>1055.0</td>\n",
       "      <td>676.0</td>\n",
       "      <td>28</td>\n",
       "    </tr>\n",
       "    <tr>\n",
       "      <th>2</th>\n",
       "      <td>332.5</td>\n",
       "      <td>142.5</td>\n",
       "      <td>0.0</td>\n",
       "      <td>228.0</td>\n",
       "      <td>0.0</td>\n",
       "      <td>932.0</td>\n",
       "      <td>594.0</td>\n",
       "      <td>270</td>\n",
       "    </tr>\n",
       "    <tr>\n",
       "      <th>3</th>\n",
       "      <td>332.5</td>\n",
       "      <td>142.5</td>\n",
       "      <td>0.0</td>\n",
       "      <td>228.0</td>\n",
       "      <td>0.0</td>\n",
       "      <td>932.0</td>\n",
       "      <td>594.0</td>\n",
       "      <td>365</td>\n",
       "    </tr>\n",
       "    <tr>\n",
       "      <th>4</th>\n",
       "      <td>198.6</td>\n",
       "      <td>132.4</td>\n",
       "      <td>0.0</td>\n",
       "      <td>192.0</td>\n",
       "      <td>0.0</td>\n",
       "      <td>978.4</td>\n",
       "      <td>825.5</td>\n",
       "      <td>360</td>\n",
       "    </tr>\n",
       "  </tbody>\n",
       "</table>\n",
       "</div>"
      ],
      "text/plain": [
       "   Cement  Blast Furnace Slag  Fly Ash  Water  Superplasticizer  \\\n",
       "0   540.0                 0.0      0.0  162.0               2.5   \n",
       "1   540.0                 0.0      0.0  162.0               2.5   \n",
       "2   332.5               142.5      0.0  228.0               0.0   \n",
       "3   332.5               142.5      0.0  228.0               0.0   \n",
       "4   198.6               132.4      0.0  192.0               0.0   \n",
       "\n",
       "   Coarse Aggregate  Fine Aggregate  Age  \n",
       "0            1040.0           676.0   28  \n",
       "1            1055.0           676.0   28  \n",
       "2             932.0           594.0  270  \n",
       "3             932.0           594.0  365  \n",
       "4             978.4           825.5  360  "
      ]
     },
     "execution_count": 6,
     "metadata": {},
     "output_type": "execute_result"
    }
   ],
   "source": [
    "predictors.head()"
   ]
  },
  {
   "cell_type": "code",
   "execution_count": 7,
   "metadata": {},
   "outputs": [
    {
     "data": {
      "text/plain": [
       "0    79.99\n",
       "1    61.89\n",
       "2    40.27\n",
       "3    41.05\n",
       "4    44.30\n",
       "Name: Strength, dtype: float64"
      ]
     },
     "execution_count": 7,
     "metadata": {},
     "output_type": "execute_result"
    }
   ],
   "source": [
    "target.head()"
   ]
  },
  {
   "attachments": {},
   "cell_type": "markdown",
   "metadata": {},
   "source": [
    "So, it looks clean again."
   ]
  },
  {
   "cell_type": "code",
   "execution_count": 8,
   "metadata": {},
   "outputs": [
    {
     "data": {
      "text/plain": [
       "8"
      ]
     },
     "execution_count": 8,
     "metadata": {},
     "output_type": "execute_result"
    }
   ],
   "source": [
    "number_cols = predictors.shape[1] # number of predictors\n",
    "number_cols"
   ]
  },
  {
   "cell_type": "markdown",
   "metadata": {},
   "source": [
    "<a id=\"item1\"></a>"
   ]
  },
  {
   "cell_type": "markdown",
   "metadata": {},
   "source": [
    "<a id=\"item1\"></a>"
   ]
  },
  {
   "attachments": {},
   "cell_type": "markdown",
   "metadata": {},
   "source": [
    "## Importing Keras"
   ]
  },
  {
   "attachments": {},
   "cell_type": "markdown",
   "metadata": {},
   "source": [
    "#### Now we have to import the Keras library for the actual work"
   ]
  },
  {
   "cell_type": "code",
   "execution_count": 9,
   "metadata": {},
   "outputs": [],
   "source": [
    "import keras"
   ]
  },
  {
   "attachments": {},
   "cell_type": "markdown",
   "metadata": {},
   "source": [
    "To use Keras, we first have to install the TensorFlow backend, which would be used to install the Keras library."
   ]
  },
  {
   "attachments": {},
   "cell_type": "markdown",
   "metadata": {},
   "source": [
    "Now, to import the rest of the packages from the Keras library that we will need to build our regressoin model."
   ]
  },
  {
   "cell_type": "code",
   "execution_count": 10,
   "metadata": {},
   "outputs": [],
   "source": [
    "from keras.models import Sequential\n",
    "from keras.layers import Dense"
   ]
  },
  {
   "cell_type": "code",
   "execution_count": 11,
   "metadata": {},
   "outputs": [],
   "source": [
    "def regression_model():\n",
    "    # creating the model\n",
    "    model = Sequential()\n",
    "    model.add(Dense(10, activation='relu', input_shape=(number_cols,)))\n",
    "    model.add(Dense(1))\n",
    "    \n",
    "    # compiling the model\n",
    "    model.compile(optimizer='adam', loss='mean_squared_error')\n",
    "    return model"
   ]
  },
  {
   "attachments": {},
   "cell_type": "markdown",
   "metadata": {},
   "source": [
    "The regression_model function creates a model that has one hidden layer with 10 neurons and a ReLU activation function. It uses the adam optimizer and the mean squared error as the loss function."
   ]
  },
  {
   "cell_type": "markdown",
   "metadata": {},
   "source": [
    "Let's import scikit-learn in order to randomly split the data into a training and test sets"
   ]
  },
  {
   "cell_type": "code",
   "execution_count": 12,
   "metadata": {},
   "outputs": [],
   "source": [
    "from sklearn.model_selection import train_test_split"
   ]
  },
  {
   "attachments": {},
   "cell_type": "markdown",
   "metadata": {},
   "source": [
    "Now, let's split the data into a training and test sets by holding 30% of the data for testing"
   ]
  },
  {
   "cell_type": "code",
   "execution_count": 13,
   "metadata": {},
   "outputs": [],
   "source": [
    "X_train, X_test, y_train, y_test = train_test_split(predictors, target, test_size=0.3, random_state=42)"
   ]
  },
  {
   "attachments": {},
   "cell_type": "markdown",
   "metadata": {},
   "source": [
    "### Training and Testing the Network"
   ]
  },
  {
   "attachments": {},
   "cell_type": "markdown",
   "metadata": {},
   "source": [
    "Call the function now to create our model."
   ]
  },
  {
   "cell_type": "code",
   "execution_count": 14,
   "metadata": {},
   "outputs": [],
   "source": [
    "# building the model\n",
    "model = regression_model()"
   ]
  },
  {
   "cell_type": "markdown",
   "metadata": {},
   "source": [
    "Next, we will train the model for 50 epochs.\n"
   ]
  },
  {
   "cell_type": "code",
   "execution_count": 15,
   "metadata": {},
   "outputs": [
    {
     "name": "stdout",
     "output_type": "stream",
     "text": [
      "Epoch 1/50\n",
      "23/23 [==============================] - 0s 1ms/step - loss: 140486.3281\n",
      "Epoch 2/50\n",
      "23/23 [==============================] - 0s 910us/step - loss: 52761.3438\n",
      "Epoch 3/50\n",
      "23/23 [==============================] - 0s 764us/step - loss: 15300.5420\n",
      "Epoch 4/50\n",
      "23/23 [==============================] - 0s 767us/step - loss: 4078.8591\n",
      "Epoch 5/50\n",
      "23/23 [==============================] - 0s 741us/step - loss: 1904.8817\n",
      "Epoch 6/50\n",
      "23/23 [==============================] - 0s 810us/step - loss: 1643.3110\n",
      "Epoch 7/50\n",
      "23/23 [==============================] - 0s 812us/step - loss: 1587.2657\n",
      "Epoch 8/50\n",
      "23/23 [==============================] - 0s 767us/step - loss: 1541.0066\n",
      "Epoch 9/50\n",
      "23/23 [==============================] - 0s 810us/step - loss: 1492.3256\n",
      "Epoch 10/50\n",
      "23/23 [==============================] - 0s 861us/step - loss: 1445.9077\n",
      "Epoch 11/50\n",
      "23/23 [==============================] - 0s 1ms/step - loss: 1398.6022\n",
      "Epoch 12/50\n",
      "23/23 [==============================] - 0s 824us/step - loss: 1352.6323\n",
      "Epoch 13/50\n",
      "23/23 [==============================] - 0s 861us/step - loss: 1309.2097\n",
      "Epoch 14/50\n",
      "23/23 [==============================] - 0s 884us/step - loss: 1266.1550\n",
      "Epoch 15/50\n",
      "23/23 [==============================] - 0s 2ms/step - loss: 1224.5718\n",
      "Epoch 16/50\n",
      "23/23 [==============================] - 0s 876us/step - loss: 1185.8143\n",
      "Epoch 17/50\n",
      "23/23 [==============================] - 0s 769us/step - loss: 1149.8159\n",
      "Epoch 18/50\n",
      "23/23 [==============================] - 0s 765us/step - loss: 1114.8539\n",
      "Epoch 19/50\n",
      "23/23 [==============================] - 0s 763us/step - loss: 1081.7649\n",
      "Epoch 20/50\n",
      "23/23 [==============================] - 0s 766us/step - loss: 1050.1108\n",
      "Epoch 21/50\n",
      "23/23 [==============================] - 0s 701us/step - loss: 1021.5443\n",
      "Epoch 22/50\n",
      "23/23 [==============================] - 0s 816us/step - loss: 995.6428\n",
      "Epoch 23/50\n",
      "23/23 [==============================] - 0s 793us/step - loss: 968.1848\n",
      "Epoch 24/50\n",
      "23/23 [==============================] - 0s 793us/step - loss: 943.2700\n",
      "Epoch 25/50\n",
      "23/23 [==============================] - 0s 786us/step - loss: 919.7500\n",
      "Epoch 26/50\n",
      "23/23 [==============================] - 0s 714us/step - loss: 897.6635\n",
      "Epoch 27/50\n",
      "23/23 [==============================] - 0s 764us/step - loss: 877.7791\n",
      "Epoch 28/50\n",
      "23/23 [==============================] - 0s 743us/step - loss: 857.9456\n",
      "Epoch 29/50\n",
      "23/23 [==============================] - 0s 734us/step - loss: 839.8702\n",
      "Epoch 30/50\n",
      "23/23 [==============================] - 0s 777us/step - loss: 823.1557\n",
      "Epoch 31/50\n",
      "23/23 [==============================] - 0s 757us/step - loss: 806.0305\n",
      "Epoch 32/50\n",
      "23/23 [==============================] - 0s 718us/step - loss: 790.5040\n",
      "Epoch 33/50\n",
      "23/23 [==============================] - 0s 719us/step - loss: 777.9247\n",
      "Epoch 34/50\n",
      "23/23 [==============================] - 0s 810us/step - loss: 760.8519\n",
      "Epoch 35/50\n",
      "23/23 [==============================] - 0s 724us/step - loss: 748.6419\n",
      "Epoch 36/50\n",
      "23/23 [==============================] - 0s 724us/step - loss: 735.6958\n",
      "Epoch 37/50\n",
      "23/23 [==============================] - 0s 740us/step - loss: 723.3585\n",
      "Epoch 38/50\n",
      "23/23 [==============================] - 0s 751us/step - loss: 710.0359\n",
      "Epoch 39/50\n",
      "23/23 [==============================] - 0s 749us/step - loss: 697.4653\n",
      "Epoch 40/50\n",
      "23/23 [==============================] - 0s 725us/step - loss: 686.9575\n",
      "Epoch 41/50\n",
      "23/23 [==============================] - 0s 773us/step - loss: 676.9159\n",
      "Epoch 42/50\n",
      "23/23 [==============================] - 0s 720us/step - loss: 665.3701\n",
      "Epoch 43/50\n",
      "23/23 [==============================] - 0s 745us/step - loss: 654.1833\n",
      "Epoch 44/50\n",
      "23/23 [==============================] - 0s 747us/step - loss: 643.9359\n",
      "Epoch 45/50\n",
      "23/23 [==============================] - 0s 745us/step - loss: 633.4854\n",
      "Epoch 46/50\n",
      "23/23 [==============================] - 0s 693us/step - loss: 624.6254\n",
      "Epoch 47/50\n",
      "23/23 [==============================] - 0s 771us/step - loss: 614.3530\n",
      "Epoch 48/50\n",
      "23/23 [==============================] - 0s 703us/step - loss: 604.9896\n",
      "Epoch 49/50\n",
      "23/23 [==============================] - 0s 744us/step - loss: 596.6915\n",
      "Epoch 50/50\n",
      "23/23 [==============================] - 0s 1ms/step - loss: 587.2030\n"
     ]
    },
    {
     "data": {
      "text/plain": [
       "<keras.callbacks.History at 0x203f95c4ee0>"
      ]
     },
     "execution_count": 15,
     "metadata": {},
     "output_type": "execute_result"
    }
   ],
   "source": [
    "# fit the model\n",
    "epochs = 50\n",
    "model.fit(X_train, y_train, epochs=epochs, verbose=1)"
   ]
  },
  {
   "cell_type": "markdown",
   "metadata": {},
   "source": [
    "Next we need to evaluate the model on the test data."
   ]
  },
  {
   "cell_type": "code",
   "execution_count": 16,
   "metadata": {},
   "outputs": [
    {
     "name": "stdout",
     "output_type": "stream",
     "text": [
      "10/10 [==============================] - 0s 887us/step - loss: 595.7080\n",
      "10/10 [==============================] - 0s 885us/step\n"
     ]
    },
    {
     "data": {
      "text/plain": [
       "595.7080078125"
      ]
     },
     "execution_count": 16,
     "metadata": {},
     "output_type": "execute_result"
    }
   ],
   "source": [
    "loss_val = model.evaluate(X_test, y_test)\n",
    "y_pred = model.predict(X_test)\n",
    "loss_val"
   ]
  },
  {
   "cell_type": "markdown",
   "metadata": {},
   "source": [
    "Now we need to compute the mean squared error between the predicted concrete strength and the actual concrete strength."
   ]
  },
  {
   "cell_type": "markdown",
   "metadata": {},
   "source": [
    "Let's import the mean_squared_error function from Scikit-learn."
   ]
  },
  {
   "cell_type": "code",
   "execution_count": 17,
   "metadata": {},
   "outputs": [],
   "source": [
    "from sklearn.metrics import mean_squared_error"
   ]
  },
  {
   "cell_type": "code",
   "execution_count": 18,
   "metadata": {},
   "outputs": [
    {
     "name": "stdout",
     "output_type": "stream",
     "text": [
      "595.7080658078809 0.0\n"
     ]
    }
   ],
   "source": [
    "mean_square_error = mean_squared_error(y_test, y_pred)\n",
    "mean = np.mean(mean_square_error)\n",
    "standard_deviation = np.std(mean_square_error)\n",
    "print(mean, standard_deviation)"
   ]
  },
  {
   "cell_type": "markdown",
   "metadata": {},
   "source": [
    "Create a list of 50 mean squared errors and report mean and the standard deviation of the mean squared errors."
   ]
  },
  {
   "cell_type": "code",
   "execution_count": 20,
   "metadata": {},
   "outputs": [
    {
     "name": "stdout",
     "output_type": "stream",
     "text": [
      "MSE 1: 44.85261917114258\n",
      "10/10 [==============================] - 0s 665us/step\n",
      "MSE 2: 48.12493896484375\n",
      "10/10 [==============================] - 0s 733us/step\n",
      "MSE 3: 38.66611862182617\n",
      "10/10 [==============================] - 0s 776us/step\n",
      "MSE 4: 47.988182067871094\n",
      "10/10 [==============================] - 0s 808us/step\n",
      "MSE 5: 42.89168167114258\n",
      "10/10 [==============================] - 0s 647us/step\n",
      "MSE 6: 45.06026840209961\n",
      "10/10 [==============================] - 0s 700us/step\n",
      "MSE 7: 53.152923583984375\n",
      "10/10 [==============================] - 0s 770us/step\n",
      "MSE 8: 46.89166259765625\n",
      "10/10 [==============================] - 0s 660us/step\n",
      "MSE 9: 40.754676818847656\n",
      "10/10 [==============================] - 0s 670us/step\n",
      "MSE 10: 50.810279846191406\n",
      "10/10 [==============================] - 0s 792us/step\n",
      "MSE 11: 43.492122650146484\n",
      "10/10 [==============================] - 0s 717us/step\n",
      "MSE 12: 41.215057373046875\n",
      "10/10 [==============================] - 0s 728us/step\n",
      "MSE 13: 51.967262268066406\n",
      "10/10 [==============================] - 0s 659us/step\n",
      "MSE 14: 49.63865661621094\n",
      "10/10 [==============================] - 0s 720us/step\n",
      "MSE 15: 41.08904266357422\n",
      "10/10 [==============================] - 0s 728us/step\n",
      "MSE 16: 48.29412078857422\n",
      "10/10 [==============================] - 0s 799us/step\n",
      "MSE 17: 43.33530044555664\n",
      "10/10 [==============================] - 0s 661us/step\n",
      "MSE 18: 43.704776763916016\n",
      "10/10 [==============================] - 0s 758us/step\n",
      "MSE 19: 38.85660934448242\n",
      "10/10 [==============================] - 0s 1ms/step\n",
      "MSE 20: 40.47872543334961\n",
      "10/10 [==============================] - 0s 665us/step\n",
      "MSE 21: 43.65336227416992\n",
      "10/10 [==============================] - 0s 805us/step\n",
      "MSE 22: 44.396541595458984\n",
      "10/10 [==============================] - 0s 669us/step\n",
      "MSE 23: 37.90032196044922\n",
      "10/10 [==============================] - 0s 711us/step\n",
      "MSE 24: 40.72460174560547\n",
      "10/10 [==============================] - 0s 665us/step\n",
      "MSE 25: 48.60761642456055\n",
      "10/10 [==============================] - 0s 669us/step\n",
      "MSE 26: 43.315513610839844\n",
      "10/10 [==============================] - 0s 685us/step\n",
      "MSE 27: 45.6414794921875\n",
      "10/10 [==============================] - 0s 711us/step\n",
      "MSE 28: 41.58686065673828\n",
      "10/10 [==============================] - 0s 727us/step\n",
      "MSE 29: 47.61543655395508\n",
      "10/10 [==============================] - 0s 699us/step\n",
      "MSE 30: 46.14681625366211\n",
      "10/10 [==============================] - 0s 665us/step\n",
      "MSE 31: 44.81208801269531\n",
      "10/10 [==============================] - 0s 621us/step\n",
      "MSE 32: 41.61591339111328\n",
      "10/10 [==============================] - 0s 742us/step\n",
      "MSE 33: 41.95627975463867\n",
      "10/10 [==============================] - 0s 726us/step\n",
      "MSE 34: 41.093109130859375\n",
      "10/10 [==============================] - 0s 751us/step\n",
      "MSE 35: 40.42496871948242\n",
      "10/10 [==============================] - 0s 887us/step\n",
      "MSE 36: 43.623634338378906\n",
      "10/10 [==============================] - 0s 876us/step\n",
      "MSE 37: 44.89169692993164\n",
      "10/10 [==============================] - 0s 829us/step\n",
      "MSE 38: 53.17736053466797\n",
      "10/10 [==============================] - 0s 781us/step\n",
      "MSE 39: 44.444881439208984\n",
      "10/10 [==============================] - 0s 1ms/step\n",
      "MSE 40: 37.158447265625\n",
      "10/10 [==============================] - 0s 769us/step\n",
      "MSE 41: 49.267757415771484\n",
      "10/10 [==============================] - 0s 836us/step\n",
      "MSE 42: 41.48805236816406\n",
      "10/10 [==============================] - 0s 716us/step\n",
      "MSE 43: 41.70020294189453\n",
      "10/10 [==============================] - 0s 776us/step\n",
      "MSE 44: 50.531333923339844\n",
      "10/10 [==============================] - 0s 747us/step\n",
      "MSE 45: 46.29633712768555\n",
      "10/10 [==============================] - 0s 649us/step\n",
      "MSE 46: 46.5931510925293\n",
      "10/10 [==============================] - 0s 727us/step\n",
      "MSE 47: 47.69826889038086\n",
      "10/10 [==============================] - 0s 804us/step\n",
      "MSE 48: 48.40733337402344\n",
      "10/10 [==============================] - 0s 652us/step\n",
      "MSE 49: 48.02666091918945\n",
      "10/10 [==============================] - 0s 2ms/step\n",
      "MSE 50: 45.4085693359375\n",
      "10/10 [==============================] - 0s 700us/step\n",
      "\n",
      "\n",
      "Below is the mean and standard deviation of 50 mean squared errors without normalized data. Total number of epochs for each training is: 50\n",
      "\n",
      "Mean: 44.78939196744952\n",
      "Standard Deviation: 3.8916662904346007\n"
     ]
    }
   ],
   "source": [
    "total_mean_squared_errors = 50\n",
    "epochs = 50\n",
    "mean_squared_errors = []\n",
    "for i in range(0, total_mean_squared_errors):\n",
    "    X_train, X_test, y_train, y_test = train_test_split(predictors, target, test_size=0.3, random_state=i)\n",
    "    model.fit(X_train, y_train, epochs=epochs, verbose=0)\n",
    "    MSE = model.evaluate(X_test, y_test, verbose=0)\n",
    "    print(\"MSE \"+str(i+1)+\": \"+str(MSE))\n",
    "    y_pred = model.predict(X_test)\n",
    "    mean_square_error = mean_squared_error(y_test, y_pred)\n",
    "    mean_squared_errors.append(mean_square_error)\n",
    "\n",
    "mean_squared_errors = np.array(mean_squared_errors)\n",
    "mean = np.mean(mean_squared_errors)\n",
    "standard_deviation = np.std(mean_squared_errors)\n",
    "\n",
    "print('\\n')\n",
    "print(\"Below is the mean and standard deviation of \" +str(total_mean_squared_errors) + \" mean squared errors without normalized data. Total number of epochs for each training is: \" +str(epochs) + \"\\n\")\n",
    "print(\"Mean: \"+str(mean))\n",
    "print(\"Standard Deviation: \"+str(standard_deviation))"
   ]
  },
  {
   "cell_type": "code",
   "execution_count": null,
   "metadata": {},
   "outputs": [],
   "source": []
  }
 ],
 "metadata": {
  "kernelspec": {
   "display_name": "Python 3",
   "language": "python",
   "name": "python3"
  },
  "language_info": {
   "codemirror_mode": {
    "name": "ipython",
    "version": 3
   },
   "file_extension": ".py",
   "mimetype": "text/x-python",
   "name": "python",
   "nbconvert_exporter": "python",
   "pygments_lexer": "ipython3",
   "version": "3.10.8"
  },
  "vscode": {
   "interpreter": {
    "hash": "888d31709ca79bf2a80bc0cbceb317f731f8ef13079c8a5ef9dcc0d9b6d5aff0"
   }
  }
 },
 "nbformat": 4,
 "nbformat_minor": 2
}
